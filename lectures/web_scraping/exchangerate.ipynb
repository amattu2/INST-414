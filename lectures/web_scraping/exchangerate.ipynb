{
 "cells": [
  {
   "cell_type": "code",
   "execution_count": 3,
   "id": "b5478db6",
   "metadata": {},
   "outputs": [],
   "source": [
    "import requests"
   ]
  },
  {
   "cell_type": "code",
   "execution_count": 4,
   "id": "889959e8",
   "metadata": {},
   "outputs": [],
   "source": [
    "url = \"https://v6.exchangerate-api.com/v6/11c604756335e6d9262ccfe4/latest/USD\"\n",
    "x = requests.get(url)"
   ]
  },
  {
   "cell_type": "code",
   "execution_count": 8,
   "id": "245f2b15",
   "metadata": {},
   "outputs": [],
   "source": [
    "rates = x.json()[\"conversion_rates\"]"
   ]
  },
  {
   "cell_type": "code",
   "execution_count": 9,
   "id": "62347a63",
   "metadata": {},
   "outputs": [],
   "source": [
    "base = \"CAD\"\n",
    "target = \"EUR\"\n",
    "conversion_rate = rates[target] / rates[base]"
   ]
  },
  {
   "cell_type": "code",
   "execution_count": 10,
   "id": "d81cd02b",
   "metadata": {},
   "outputs": [
    {
     "name": "stdout",
     "output_type": "stream",
     "text": [
      "0.6778734680357734\n"
     ]
    }
   ],
   "source": [
    "print(conversion_rate)"
   ]
  },
  {
   "cell_type": "code",
   "execution_count": 12,
   "id": "aaaad21e",
   "metadata": {},
   "outputs": [
    {
     "name": "stdout",
     "output_type": "stream",
     "text": [
      "['KWD', 'BHD', 'OMR', 'XDR', 'FKP', 'GBP', 'GGP', 'GIP', 'IMP', 'SHP', 'JOD', 'EUR', 'KYD', 'CHF', 'USD', 'BMD', 'BSD', 'CUC', 'PAB', 'CAD', 'AUD', 'KID', 'TVD', 'BND', 'SGD', 'NZD', 'BAM', 'BGN', 'AZN', 'ANG', 'AWG', 'BBD', 'BZD', 'FJD', 'TOP', 'BYN', 'WST', 'XCD', 'TND', 'GEL', 'ILS', 'TMT', 'PGK', 'QAR', 'PLN', 'AED', 'SAR', 'PEN', 'RON', 'MYR', 'LYD', 'BRL', 'GHS', 'DKK', 'FOK', 'HRK', 'CNY', 'TTD', 'BOB', 'GTQ', 'HKD', 'SBD', 'MOP', 'SEK', 'NOK', 'TRY', 'MAD', 'BWP', 'TJS', 'LSL', 'NAD', 'SZL', 'ZAR', 'SRD', 'ERN', 'MVR', 'EGP', 'SCR', 'MDL', 'MXN', 'STN', 'CZK', 'ZMW', 'HNL', 'CUP', 'UAH', 'TWD', 'THB', 'NIO', 'MRU', 'MUR', 'ETB', 'UYU', 'PHP', 'MKD', 'GMD', 'DOP', 'MZN', 'RUB', 'BTN', 'INR', 'AFN', 'KGS', 'BDT', 'CVE', 'HTG', 'ARS', 'RSD', 'XPF', 'ALL', 'KES', 'VUV', 'JPY', 'NPR', 'ISK', 'DZD', 'JMD', 'PKR', 'LRD', 'SSP', 'DJF', 'LKR', 'GYD', 'YER', 'HUF', 'KMF', 'NGN', 'KZT', 'SDG', 'AMD', 'XAF', 'XOF', 'SOS', 'CRC', 'AOA', 'CLP', 'MWK', 'RWF', 'KRW', 'IQD', 'LBP', 'SYP', 'MMK', 'BIF', 'CDF', 'TZS', 'MNT', 'UGX', 'COP', 'MGA', 'KHR', 'PYG', 'LAK', 'GNF', 'SLL', 'UZS', 'IDR', 'VND', 'IRR', 'VES']\n"
     ]
    }
   ],
   "source": [
    "sorted_names = sorted(rates, key = rates.get)\n",
    "print(sorted_names)"
   ]
  },
  {
   "cell_type": "code",
   "execution_count": 14,
   "id": "4574bf33",
   "metadata": {},
   "outputs": [],
   "source": [
    "sorted_pairs = [[country, rates[country]] for country in sorted_names]"
   ]
  },
  {
   "cell_type": "code",
   "execution_count": 15,
   "id": "c23a5dd0",
   "metadata": {},
   "outputs": [
    {
     "name": "stdout",
     "output_type": "stream",
     "text": [
      "[['KWD', 0.2996], ['BHD', 0.376], ['OMR', 0.3845], ['XDR', 0.6929], ['FKP', 0.7065], ['GBP', 0.7065], ['GGP', 0.7065], ['GIP', 0.7065], ['IMP', 0.7065], ['SHP', 0.7065], ['JOD', 0.709], ['EUR', 0.8186], ['KYD', 0.8333], ['CHF', 0.8956], ['USD', 1], ['BMD', 1.0], ['BSD', 1.0], ['CUC', 1.0], ['PAB', 1.0], ['CAD', 1.2076], ['AUD', 1.2918], ['KID', 1.2918], ['TVD', 1.2918], ['BND', 1.3227], ['SGD', 1.3227], ['NZD', 1.3917], ['BAM', 1.6009], ['BGN', 1.6018], ['AZN', 1.7057], ['ANG', 1.79], ['AWG', 1.79], ['BBD', 2.0], ['BZD', 2.0], ['FJD', 2.0336], ['TOP', 2.216], ['BYN', 2.5014], ['WST', 2.5093], ['XCD', 2.7], ['TND', 2.7235], ['GEL', 3.1354], ['ILS', 3.2556], ['TMT', 3.501], ['PGK', 3.5148], ['QAR', 3.64], ['PLN', 3.6663], ['AED', 3.6725], ['SAR', 3.75], ['PEN', 3.9199], ['RON', 4.0368], ['MYR', 4.1169], ['LYD', 4.468], ['BRL', 5.038], ['GHS', 5.8192], ['DKK', 6.1065], ['FOK', 6.1065], ['HRK', 6.1672], ['CNY', 6.3891], ['TTD', 6.7514], ['BOB', 6.8945], ['GTQ', 7.724], ['HKD', 7.7586], ['SBD', 7.93], ['MOP', 7.9913], ['SEK', 8.2585], ['NOK', 8.2595], ['TRY', 8.5877], ['MAD', 8.8163], ['BWP', 10.6038], ['TJS', 11.3386], ['LSL', 13.6427], ['NAD', 13.6427], ['SZL', 13.6427], ['ZAR', 13.6432], ['SRD', 14.1536], ['ERN', 15.0], ['MVR', 15.425], ['EGP', 15.6675], ['SCR', 15.7445], ['MDL', 17.6731], ['MXN', 19.6939], ['STN', 20.0538], ['CZK', 20.8764], ['ZMW', 22.5559], ['HNL', 24.0483], ['CUP', 25.75], ['UAH', 27.038], ['TWD', 27.708], ['THB', 31.1874], ['NIO', 35.1823], ['MRU', 36.261], ['MUR', 40.8553], ['ETB', 43.4874], ['UYU', 43.5912], ['PHP', 47.7562], ['MKD', 50.6755], ['GMD', 51.8528], ['DOP', 57.004], ['MZN', 62.0019], ['RUB', 72.166], ['BTN', 72.9432], ['INR', 72.9435], ['AFN', 78.5074], ['KGS', 84.7354], ['BDT', 84.8383], ['CVE', 90.2545], ['HTG', 91.1927], ['ARS', 95.0251], ['RSD', 96.5548], ['XPF', 97.6761], ['ALL', 101.0547], ['KES', 107.9121], ['VUV', 108.0438], ['JPY', 109.5172], ['NPR', 116.7091], ['ISK', 120.4761], ['DZD', 133.8728], ['JMD', 149.204], ['PKR', 155.3645], ['LRD', 171.5634], ['SSP', 176.0846], ['DJF', 177.721], ['LKR', 198.2804], ['GYD', 209.605], ['YER', 249.5195], ['HUF', 285.5122], ['KMF', 402.6873], ['NGN', 423.3992], ['KZT', 427.252], ['SDG', 431.293], ['AMD', 520.3404], ['XAF', 536.9164], ['XOF', 536.9164], ['SOS', 580.0618], ['CRC', 617.3167], ['AOA', 645.7671], ['CLP', 717.8011], ['MWK', 797.886], ['RWF', 987.2161], ['KRW', 1116.242], ['IQD', 1462.8854], ['LBP', 1507.5], ['SYP', 1599.3698], ['MMK', 1647.6091], ['BIF', 1968.7577], ['CDF', 1994.5543], ['TZS', 2318.483], ['MNT', 2864.0553], ['UGX', 3524.9477], ['COP', 3594.1884], ['MGA', 3780.5921], ['KHR', 4091.5076], ['PYG', 6678.2145], ['LAK', 9450.0916], ['GNF', 9828.3935], ['SLL', 10268.8817], ['UZS', 10599.5876], ['IDR', 14268.3011], ['VND', 22960.8164], ['IRR', 41944.6745], ['VES', 3128393.4863]]\n"
     ]
    }
   ],
   "source": [
    "print(sorted_pairs)"
   ]
  },
  {
   "cell_type": "code",
   "execution_count": null,
   "id": "92194507",
   "metadata": {},
   "outputs": [],
   "source": []
  }
 ],
 "metadata": {
  "kernelspec": {
   "display_name": "Python 3",
   "language": "python",
   "name": "python3"
  },
  "language_info": {
   "codemirror_mode": {
    "name": "ipython",
    "version": 3
   },
   "file_extension": ".py",
   "mimetype": "text/x-python",
   "name": "python",
   "nbconvert_exporter": "python",
   "pygments_lexer": "ipython3",
   "version": "3.8.8"
  }
 },
 "nbformat": 4,
 "nbformat_minor": 5
}
