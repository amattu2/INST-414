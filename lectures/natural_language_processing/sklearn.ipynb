{
 "cells": [
  {
   "cell_type": "markdown",
   "id": "23203956",
   "metadata": {},
   "source": [
    "# Introduction to Natural Language Processing\n",
    "## Lecture 1"
   ]
  },
  {
   "cell_type": "code",
   "execution_count": 3,
   "id": "f9d56f6e",
   "metadata": {},
   "outputs": [],
   "source": [
    "'''\n",
    "Alec M.\n",
    "06/19/2021\n",
    "\n",
    "INST414\n",
    "'''\n",
    "\n",
    "import pandas as pd\n",
    "import numpy as np\n",
    "from sklearn.feature_extraction import text"
   ]
  },
  {
   "cell_type": "code",
   "execution_count": 6,
   "id": "201a980f",
   "metadata": {},
   "outputs": [],
   "source": [
    "docs = [\"NLP cosnsits of computation tools of textual analysis\",\n",
    "       \"Pizza is a savory dish of Italian origin and the ingredients usually include cheese.\",\n",
    "       \"leafy branches are swaying in the wind and leaves are gently falling in the river.\",\n",
    "       \"The main task of machine learning is using computational methods to do prediction.\"]\n",
    "titles = [\"NLP\", \"Pizza\", \"tree\", \"ML\"]\n",
    "bag_of_words = text.CountVectorizer()\n",
    "docterm = bag_of_words.fit_transform(docs)\n",
    "vocab = bag_of_words.vocabulary_"
   ]
  },
  {
   "cell_type": "code",
   "execution_count": 7,
   "id": "f698ecdd",
   "metadata": {},
   "outputs": [
    {
     "data": {
      "text/plain": [
       "{'nlp': 23,\n",
       " 'cosnsits': 7,\n",
       " 'of': 24,\n",
       " 'computation': 5,\n",
       " 'tools': 35,\n",
       " 'textual': 32,\n",
       " 'analysis': 0,\n",
       " 'pizza': 26,\n",
       " 'is': 15,\n",
       " 'savory': 29,\n",
       " 'dish': 8,\n",
       " 'italian': 16,\n",
       " 'origin': 25,\n",
       " 'and': 1,\n",
       " 'the': 33,\n",
       " 'ingredients': 14,\n",
       " 'usually': 37,\n",
       " 'include': 13,\n",
       " 'cheese': 4,\n",
       " 'leafy': 17,\n",
       " 'branches': 3,\n",
       " 'are': 2,\n",
       " 'swaying': 30,\n",
       " 'in': 12,\n",
       " 'wind': 38,\n",
       " 'leaves': 19,\n",
       " 'gently': 11,\n",
       " 'falling': 10,\n",
       " 'river': 28,\n",
       " 'main': 21,\n",
       " 'task': 31,\n",
       " 'machine': 20,\n",
       " 'learning': 18,\n",
       " 'using': 36,\n",
       " 'computational': 6,\n",
       " 'methods': 22,\n",
       " 'to': 34,\n",
       " 'do': 9,\n",
       " 'prediction': 27}"
      ]
     },
     "execution_count": 7,
     "metadata": {},
     "output_type": "execute_result"
    }
   ],
   "source": [
    "vocab"
   ]
  },
  {
   "cell_type": "code",
   "execution_count": 8,
   "id": "cd9cabd1",
   "metadata": {},
   "outputs": [
    {
     "name": "stdout",
     "output_type": "stream",
     "text": [
      "  (0, 23)\t1\n",
      "  (0, 7)\t1\n",
      "  (0, 24)\t2\n",
      "  (0, 5)\t1\n",
      "  (0, 35)\t1\n",
      "  (0, 32)\t1\n",
      "  (0, 0)\t1\n",
      "  (1, 24)\t1\n",
      "  (1, 26)\t1\n",
      "  (1, 15)\t1\n",
      "  (1, 29)\t1\n",
      "  (1, 8)\t1\n",
      "  (1, 16)\t1\n",
      "  (1, 25)\t1\n",
      "  (1, 1)\t1\n",
      "  (1, 33)\t1\n",
      "  (1, 14)\t1\n",
      "  (1, 37)\t1\n",
      "  (1, 13)\t1\n",
      "  (1, 4)\t1\n",
      "  (2, 1)\t1\n",
      "  (2, 33)\t2\n",
      "  (2, 17)\t1\n",
      "  (2, 3)\t1\n",
      "  (2, 2)\t2\n",
      "  (2, 30)\t1\n",
      "  (2, 12)\t2\n",
      "  (2, 38)\t1\n",
      "  (2, 19)\t1\n",
      "  (2, 11)\t1\n",
      "  (2, 10)\t1\n",
      "  (2, 28)\t1\n",
      "  (3, 24)\t1\n",
      "  (3, 15)\t1\n",
      "  (3, 33)\t1\n",
      "  (3, 21)\t1\n",
      "  (3, 31)\t1\n",
      "  (3, 20)\t1\n",
      "  (3, 18)\t1\n",
      "  (3, 36)\t1\n",
      "  (3, 6)\t1\n",
      "  (3, 22)\t1\n",
      "  (3, 34)\t1\n",
      "  (3, 9)\t1\n",
      "  (3, 27)\t1\n"
     ]
    }
   ],
   "source": [
    "print(docterm)"
   ]
  },
  {
   "cell_type": "code",
   "execution_count": 9,
   "id": "d7381960",
   "metadata": {},
   "outputs": [
    {
     "name": "stdout",
     "output_type": "stream",
     "text": [
      "[[1 0 0 0 0 1 0 1 0 0 0 0 0 0 0 0 0 0 0 0 0 0 0 1 2 0 0 0 0 0 0 0 1 0 0 1\n",
      "  0 0 0]\n",
      " [0 1 0 0 1 0 0 0 1 0 0 0 0 1 1 1 1 0 0 0 0 0 0 0 1 1 1 0 0 1 0 0 0 1 0 0\n",
      "  0 1 0]\n",
      " [0 1 2 1 0 0 0 0 0 0 1 1 2 0 0 0 0 1 0 1 0 0 0 0 0 0 0 0 1 0 1 0 0 2 0 0\n",
      "  0 0 1]\n",
      " [0 0 0 0 0 0 1 0 0 1 0 0 0 0 0 1 0 0 1 0 1 1 1 0 1 0 0 1 0 0 0 1 0 1 1 0\n",
      "  1 0 0]]\n"
     ]
    }
   ],
   "source": [
    "print(docterm.toarray())"
   ]
  },
  {
   "cell_type": "code",
   "execution_count": 10,
   "id": "3b4668d3",
   "metadata": {},
   "outputs": [
    {
     "data": {
      "text/plain": [
       "(4, 39)"
      ]
     },
     "execution_count": 10,
     "metadata": {},
     "output_type": "execute_result"
    }
   ],
   "source": [
    "docterm.toarray().shape"
   ]
  },
  {
   "cell_type": "code",
   "execution_count": 11,
   "id": "5e473f10",
   "metadata": {},
   "outputs": [
    {
     "data": {
      "text/plain": [
       "['analysis',\n",
       " 'and',\n",
       " 'are',\n",
       " 'branches',\n",
       " 'cheese',\n",
       " 'computation',\n",
       " 'computational',\n",
       " 'cosnsits',\n",
       " 'dish',\n",
       " 'do',\n",
       " 'falling',\n",
       " 'gently',\n",
       " 'in',\n",
       " 'include',\n",
       " 'ingredients',\n",
       " 'is',\n",
       " 'italian',\n",
       " 'leafy',\n",
       " 'learning',\n",
       " 'leaves',\n",
       " 'machine',\n",
       " 'main',\n",
       " 'methods',\n",
       " 'nlp',\n",
       " 'of',\n",
       " 'origin',\n",
       " 'pizza',\n",
       " 'prediction',\n",
       " 'river',\n",
       " 'savory',\n",
       " 'swaying',\n",
       " 'task',\n",
       " 'textual',\n",
       " 'the',\n",
       " 'to',\n",
       " 'tools',\n",
       " 'using',\n",
       " 'usually',\n",
       " 'wind']"
      ]
     },
     "execution_count": 11,
     "metadata": {},
     "output_type": "execute_result"
    }
   ],
   "source": [
    "bag_of_words.get_feature_names()"
   ]
  },
  {
   "cell_type": "code",
   "execution_count": 12,
   "id": "99bf7a9c",
   "metadata": {},
   "outputs": [],
   "source": [
    "doctermDF = pd.DataFrame(docterm.toarray(), columns = bag_of_words.get_feature_names(), index = titles)"
   ]
  },
  {
   "cell_type": "code",
   "execution_count": 13,
   "id": "d52e42e5",
   "metadata": {},
   "outputs": [
    {
     "data": {
      "text/html": [
       "<div>\n",
       "<style scoped>\n",
       "    .dataframe tbody tr th:only-of-type {\n",
       "        vertical-align: middle;\n",
       "    }\n",
       "\n",
       "    .dataframe tbody tr th {\n",
       "        vertical-align: top;\n",
       "    }\n",
       "\n",
       "    .dataframe thead th {\n",
       "        text-align: right;\n",
       "    }\n",
       "</style>\n",
       "<table border=\"1\" class=\"dataframe\">\n",
       "  <thead>\n",
       "    <tr style=\"text-align: right;\">\n",
       "      <th></th>\n",
       "      <th>analysis</th>\n",
       "      <th>and</th>\n",
       "      <th>are</th>\n",
       "      <th>branches</th>\n",
       "      <th>cheese</th>\n",
       "      <th>computation</th>\n",
       "      <th>computational</th>\n",
       "      <th>cosnsits</th>\n",
       "      <th>dish</th>\n",
       "      <th>do</th>\n",
       "      <th>...</th>\n",
       "      <th>savory</th>\n",
       "      <th>swaying</th>\n",
       "      <th>task</th>\n",
       "      <th>textual</th>\n",
       "      <th>the</th>\n",
       "      <th>to</th>\n",
       "      <th>tools</th>\n",
       "      <th>using</th>\n",
       "      <th>usually</th>\n",
       "      <th>wind</th>\n",
       "    </tr>\n",
       "  </thead>\n",
       "  <tbody>\n",
       "    <tr>\n",
       "      <th>NLP</th>\n",
       "      <td>1</td>\n",
       "      <td>0</td>\n",
       "      <td>0</td>\n",
       "      <td>0</td>\n",
       "      <td>0</td>\n",
       "      <td>1</td>\n",
       "      <td>0</td>\n",
       "      <td>1</td>\n",
       "      <td>0</td>\n",
       "      <td>0</td>\n",
       "      <td>...</td>\n",
       "      <td>0</td>\n",
       "      <td>0</td>\n",
       "      <td>0</td>\n",
       "      <td>1</td>\n",
       "      <td>0</td>\n",
       "      <td>0</td>\n",
       "      <td>1</td>\n",
       "      <td>0</td>\n",
       "      <td>0</td>\n",
       "      <td>0</td>\n",
       "    </tr>\n",
       "    <tr>\n",
       "      <th>Pizza</th>\n",
       "      <td>0</td>\n",
       "      <td>1</td>\n",
       "      <td>0</td>\n",
       "      <td>0</td>\n",
       "      <td>1</td>\n",
       "      <td>0</td>\n",
       "      <td>0</td>\n",
       "      <td>0</td>\n",
       "      <td>1</td>\n",
       "      <td>0</td>\n",
       "      <td>...</td>\n",
       "      <td>1</td>\n",
       "      <td>0</td>\n",
       "      <td>0</td>\n",
       "      <td>0</td>\n",
       "      <td>1</td>\n",
       "      <td>0</td>\n",
       "      <td>0</td>\n",
       "      <td>0</td>\n",
       "      <td>1</td>\n",
       "      <td>0</td>\n",
       "    </tr>\n",
       "    <tr>\n",
       "      <th>tree</th>\n",
       "      <td>0</td>\n",
       "      <td>1</td>\n",
       "      <td>2</td>\n",
       "      <td>1</td>\n",
       "      <td>0</td>\n",
       "      <td>0</td>\n",
       "      <td>0</td>\n",
       "      <td>0</td>\n",
       "      <td>0</td>\n",
       "      <td>0</td>\n",
       "      <td>...</td>\n",
       "      <td>0</td>\n",
       "      <td>1</td>\n",
       "      <td>0</td>\n",
       "      <td>0</td>\n",
       "      <td>2</td>\n",
       "      <td>0</td>\n",
       "      <td>0</td>\n",
       "      <td>0</td>\n",
       "      <td>0</td>\n",
       "      <td>1</td>\n",
       "    </tr>\n",
       "    <tr>\n",
       "      <th>ML</th>\n",
       "      <td>0</td>\n",
       "      <td>0</td>\n",
       "      <td>0</td>\n",
       "      <td>0</td>\n",
       "      <td>0</td>\n",
       "      <td>0</td>\n",
       "      <td>1</td>\n",
       "      <td>0</td>\n",
       "      <td>0</td>\n",
       "      <td>1</td>\n",
       "      <td>...</td>\n",
       "      <td>0</td>\n",
       "      <td>0</td>\n",
       "      <td>1</td>\n",
       "      <td>0</td>\n",
       "      <td>1</td>\n",
       "      <td>1</td>\n",
       "      <td>0</td>\n",
       "      <td>1</td>\n",
       "      <td>0</td>\n",
       "      <td>0</td>\n",
       "    </tr>\n",
       "  </tbody>\n",
       "</table>\n",
       "<p>4 rows × 39 columns</p>\n",
       "</div>"
      ],
      "text/plain": [
       "       analysis  and  are  branches  cheese  computation  computational  \\\n",
       "NLP           1    0    0         0       0            1              0   \n",
       "Pizza         0    1    0         0       1            0              0   \n",
       "tree          0    1    2         1       0            0              0   \n",
       "ML            0    0    0         0       0            0              1   \n",
       "\n",
       "       cosnsits  dish  do  ...  savory  swaying  task  textual  the  to  \\\n",
       "NLP           1     0   0  ...       0        0     0        1    0   0   \n",
       "Pizza         0     1   0  ...       1        0     0        0    1   0   \n",
       "tree          0     0   0  ...       0        1     0        0    2   0   \n",
       "ML            0     0   1  ...       0        0     1        0    1   1   \n",
       "\n",
       "       tools  using  usually  wind  \n",
       "NLP        1      0        0     0  \n",
       "Pizza      0      0        1     0  \n",
       "tree       0      0        0     1  \n",
       "ML         0      1        0     0  \n",
       "\n",
       "[4 rows x 39 columns]"
      ]
     },
     "execution_count": 13,
     "metadata": {},
     "output_type": "execute_result"
    }
   ],
   "source": [
    "doctermDF"
   ]
  },
  {
   "cell_type": "code",
   "execution_count": 17,
   "id": "808a962c",
   "metadata": {},
   "outputs": [
    {
     "data": {
      "text/html": [
       "<div>\n",
       "<style scoped>\n",
       "    .dataframe tbody tr th:only-of-type {\n",
       "        vertical-align: middle;\n",
       "    }\n",
       "\n",
       "    .dataframe tbody tr th {\n",
       "        vertical-align: top;\n",
       "    }\n",
       "\n",
       "    .dataframe thead th {\n",
       "        text-align: right;\n",
       "    }\n",
       "</style>\n",
       "<table border=\"1\" class=\"dataframe\">\n",
       "  <thead>\n",
       "    <tr style=\"text-align: right;\">\n",
       "      <th></th>\n",
       "      <th>a</th>\n",
       "      <th>analysis</th>\n",
       "      <th>and</th>\n",
       "      <th>are</th>\n",
       "      <th>branches</th>\n",
       "      <th>cheese.</th>\n",
       "      <th>computation</th>\n",
       "      <th>computational</th>\n",
       "      <th>cosnsits</th>\n",
       "      <th>dish</th>\n",
       "      <th>...</th>\n",
       "      <th>savory</th>\n",
       "      <th>swaying</th>\n",
       "      <th>task</th>\n",
       "      <th>textual</th>\n",
       "      <th>the</th>\n",
       "      <th>to</th>\n",
       "      <th>tools</th>\n",
       "      <th>using</th>\n",
       "      <th>usually</th>\n",
       "      <th>wind</th>\n",
       "    </tr>\n",
       "  </thead>\n",
       "  <tbody>\n",
       "    <tr>\n",
       "      <th>NLP</th>\n",
       "      <td>0</td>\n",
       "      <td>1</td>\n",
       "      <td>0</td>\n",
       "      <td>0</td>\n",
       "      <td>0</td>\n",
       "      <td>0</td>\n",
       "      <td>1</td>\n",
       "      <td>0</td>\n",
       "      <td>1</td>\n",
       "      <td>0</td>\n",
       "      <td>...</td>\n",
       "      <td>0</td>\n",
       "      <td>0</td>\n",
       "      <td>0</td>\n",
       "      <td>1</td>\n",
       "      <td>0</td>\n",
       "      <td>0</td>\n",
       "      <td>1</td>\n",
       "      <td>0</td>\n",
       "      <td>0</td>\n",
       "      <td>0</td>\n",
       "    </tr>\n",
       "    <tr>\n",
       "      <th>Pizza</th>\n",
       "      <td>1</td>\n",
       "      <td>0</td>\n",
       "      <td>1</td>\n",
       "      <td>0</td>\n",
       "      <td>0</td>\n",
       "      <td>1</td>\n",
       "      <td>0</td>\n",
       "      <td>0</td>\n",
       "      <td>0</td>\n",
       "      <td>1</td>\n",
       "      <td>...</td>\n",
       "      <td>1</td>\n",
       "      <td>0</td>\n",
       "      <td>0</td>\n",
       "      <td>0</td>\n",
       "      <td>1</td>\n",
       "      <td>0</td>\n",
       "      <td>0</td>\n",
       "      <td>0</td>\n",
       "      <td>1</td>\n",
       "      <td>0</td>\n",
       "    </tr>\n",
       "    <tr>\n",
       "      <th>tree</th>\n",
       "      <td>0</td>\n",
       "      <td>0</td>\n",
       "      <td>1</td>\n",
       "      <td>2</td>\n",
       "      <td>1</td>\n",
       "      <td>0</td>\n",
       "      <td>0</td>\n",
       "      <td>0</td>\n",
       "      <td>0</td>\n",
       "      <td>0</td>\n",
       "      <td>...</td>\n",
       "      <td>0</td>\n",
       "      <td>1</td>\n",
       "      <td>0</td>\n",
       "      <td>0</td>\n",
       "      <td>2</td>\n",
       "      <td>0</td>\n",
       "      <td>0</td>\n",
       "      <td>0</td>\n",
       "      <td>0</td>\n",
       "      <td>1</td>\n",
       "    </tr>\n",
       "    <tr>\n",
       "      <th>ML</th>\n",
       "      <td>0</td>\n",
       "      <td>0</td>\n",
       "      <td>0</td>\n",
       "      <td>0</td>\n",
       "      <td>0</td>\n",
       "      <td>0</td>\n",
       "      <td>0</td>\n",
       "      <td>1</td>\n",
       "      <td>0</td>\n",
       "      <td>0</td>\n",
       "      <td>...</td>\n",
       "      <td>0</td>\n",
       "      <td>0</td>\n",
       "      <td>1</td>\n",
       "      <td>0</td>\n",
       "      <td>1</td>\n",
       "      <td>1</td>\n",
       "      <td>0</td>\n",
       "      <td>1</td>\n",
       "      <td>0</td>\n",
       "      <td>0</td>\n",
       "    </tr>\n",
       "  </tbody>\n",
       "</table>\n",
       "<p>4 rows × 40 columns</p>\n",
       "</div>"
      ],
      "text/plain": [
       "       a  analysis  and  are  branches  cheese.  computation  computational  \\\n",
       "NLP    0         1    0    0         0        0            1              0   \n",
       "Pizza  1         0    1    0         0        1            0              0   \n",
       "tree   0         0    1    2         1        0            0              0   \n",
       "ML     0         0    0    0         0        0            0              1   \n",
       "\n",
       "       cosnsits  dish  ...  savory  swaying  task  textual  the  to  tools  \\\n",
       "NLP           1     0  ...       0        0     0        1    0   0      1   \n",
       "Pizza         0     1  ...       1        0     0        0    1   0      0   \n",
       "tree          0     0  ...       0        1     0        0    2   0      0   \n",
       "ML            0     0  ...       0        0     1        0    1   1      0   \n",
       "\n",
       "       using  usually  wind  \n",
       "NLP        0        0     0  \n",
       "Pizza      0        1     0  \n",
       "tree       0        0     1  \n",
       "ML         1        0     0  \n",
       "\n",
       "[4 rows x 40 columns]"
      ]
     },
     "execution_count": 17,
     "metadata": {},
     "output_type": "execute_result"
    }
   ],
   "source": [
    "bag_of_words = text.CountVectorizer(tokenizer = lambda txt: txt.split())\n",
    "docterm = bag_of_words.fit_transform(docs)\n",
    "\n",
    "doctermDF = pd.DataFrame(docterm.toarray(), columns = bag_of_words.get_feature_names(), index = titles)\n",
    "doctermDF"
   ]
  },
  {
   "cell_type": "code",
   "execution_count": 18,
   "id": "a516773e",
   "metadata": {},
   "outputs": [],
   "source": [
    "from sklearn.preprocessing import normalize"
   ]
  },
  {
   "cell_type": "code",
   "execution_count": 20,
   "id": "904121ec",
   "metadata": {},
   "outputs": [
    {
     "data": {
      "text/html": [
       "<div>\n",
       "<style scoped>\n",
       "    .dataframe tbody tr th:only-of-type {\n",
       "        vertical-align: middle;\n",
       "    }\n",
       "\n",
       "    .dataframe tbody tr th {\n",
       "        vertical-align: top;\n",
       "    }\n",
       "\n",
       "    .dataframe thead th {\n",
       "        text-align: right;\n",
       "    }\n",
       "</style>\n",
       "<table border=\"1\" class=\"dataframe\">\n",
       "  <thead>\n",
       "    <tr style=\"text-align: right;\">\n",
       "      <th></th>\n",
       "      <th>a</th>\n",
       "      <th>analysis</th>\n",
       "      <th>and</th>\n",
       "      <th>are</th>\n",
       "      <th>branches</th>\n",
       "      <th>cheese.</th>\n",
       "      <th>computation</th>\n",
       "      <th>computational</th>\n",
       "      <th>cosnsits</th>\n",
       "      <th>dish</th>\n",
       "      <th>...</th>\n",
       "      <th>savory</th>\n",
       "      <th>swaying</th>\n",
       "      <th>task</th>\n",
       "      <th>textual</th>\n",
       "      <th>the</th>\n",
       "      <th>to</th>\n",
       "      <th>tools</th>\n",
       "      <th>using</th>\n",
       "      <th>usually</th>\n",
       "      <th>wind</th>\n",
       "    </tr>\n",
       "  </thead>\n",
       "  <tbody>\n",
       "    <tr>\n",
       "      <th>NLP</th>\n",
       "      <td>0.000000</td>\n",
       "      <td>0.316228</td>\n",
       "      <td>0.000000</td>\n",
       "      <td>0.000000</td>\n",
       "      <td>0.000000</td>\n",
       "      <td>0.000000</td>\n",
       "      <td>0.316228</td>\n",
       "      <td>0.00000</td>\n",
       "      <td>0.316228</td>\n",
       "      <td>0.000000</td>\n",
       "      <td>...</td>\n",
       "      <td>0.000000</td>\n",
       "      <td>0.000000</td>\n",
       "      <td>0.00000</td>\n",
       "      <td>0.316228</td>\n",
       "      <td>0.000000</td>\n",
       "      <td>0.00000</td>\n",
       "      <td>0.316228</td>\n",
       "      <td>0.00000</td>\n",
       "      <td>0.000000</td>\n",
       "      <td>0.000000</td>\n",
       "    </tr>\n",
       "    <tr>\n",
       "      <th>Pizza</th>\n",
       "      <td>0.267261</td>\n",
       "      <td>0.000000</td>\n",
       "      <td>0.267261</td>\n",
       "      <td>0.000000</td>\n",
       "      <td>0.000000</td>\n",
       "      <td>0.267261</td>\n",
       "      <td>0.000000</td>\n",
       "      <td>0.00000</td>\n",
       "      <td>0.000000</td>\n",
       "      <td>0.267261</td>\n",
       "      <td>...</td>\n",
       "      <td>0.267261</td>\n",
       "      <td>0.000000</td>\n",
       "      <td>0.00000</td>\n",
       "      <td>0.000000</td>\n",
       "      <td>0.267261</td>\n",
       "      <td>0.00000</td>\n",
       "      <td>0.000000</td>\n",
       "      <td>0.00000</td>\n",
       "      <td>0.267261</td>\n",
       "      <td>0.000000</td>\n",
       "    </tr>\n",
       "    <tr>\n",
       "      <th>tree</th>\n",
       "      <td>0.000000</td>\n",
       "      <td>0.000000</td>\n",
       "      <td>0.218218</td>\n",
       "      <td>0.436436</td>\n",
       "      <td>0.218218</td>\n",
       "      <td>0.000000</td>\n",
       "      <td>0.000000</td>\n",
       "      <td>0.00000</td>\n",
       "      <td>0.000000</td>\n",
       "      <td>0.000000</td>\n",
       "      <td>...</td>\n",
       "      <td>0.000000</td>\n",
       "      <td>0.218218</td>\n",
       "      <td>0.00000</td>\n",
       "      <td>0.000000</td>\n",
       "      <td>0.436436</td>\n",
       "      <td>0.00000</td>\n",
       "      <td>0.000000</td>\n",
       "      <td>0.00000</td>\n",
       "      <td>0.000000</td>\n",
       "      <td>0.218218</td>\n",
       "    </tr>\n",
       "    <tr>\n",
       "      <th>ML</th>\n",
       "      <td>0.000000</td>\n",
       "      <td>0.000000</td>\n",
       "      <td>0.000000</td>\n",
       "      <td>0.000000</td>\n",
       "      <td>0.000000</td>\n",
       "      <td>0.000000</td>\n",
       "      <td>0.000000</td>\n",
       "      <td>0.27735</td>\n",
       "      <td>0.000000</td>\n",
       "      <td>0.000000</td>\n",
       "      <td>...</td>\n",
       "      <td>0.000000</td>\n",
       "      <td>0.000000</td>\n",
       "      <td>0.27735</td>\n",
       "      <td>0.000000</td>\n",
       "      <td>0.277350</td>\n",
       "      <td>0.27735</td>\n",
       "      <td>0.000000</td>\n",
       "      <td>0.27735</td>\n",
       "      <td>0.000000</td>\n",
       "      <td>0.000000</td>\n",
       "    </tr>\n",
       "  </tbody>\n",
       "</table>\n",
       "<p>4 rows × 40 columns</p>\n",
       "</div>"
      ],
      "text/plain": [
       "              a  analysis       and       are  branches   cheese.  \\\n",
       "NLP    0.000000  0.316228  0.000000  0.000000  0.000000  0.000000   \n",
       "Pizza  0.267261  0.000000  0.267261  0.000000  0.000000  0.267261   \n",
       "tree   0.000000  0.000000  0.218218  0.436436  0.218218  0.000000   \n",
       "ML     0.000000  0.000000  0.000000  0.000000  0.000000  0.000000   \n",
       "\n",
       "       computation  computational  cosnsits      dish  ...    savory  \\\n",
       "NLP       0.316228        0.00000  0.316228  0.000000  ...  0.000000   \n",
       "Pizza     0.000000        0.00000  0.000000  0.267261  ...  0.267261   \n",
       "tree      0.000000        0.00000  0.000000  0.000000  ...  0.000000   \n",
       "ML        0.000000        0.27735  0.000000  0.000000  ...  0.000000   \n",
       "\n",
       "        swaying     task   textual       the       to     tools    using  \\\n",
       "NLP    0.000000  0.00000  0.316228  0.000000  0.00000  0.316228  0.00000   \n",
       "Pizza  0.000000  0.00000  0.000000  0.267261  0.00000  0.000000  0.00000   \n",
       "tree   0.218218  0.00000  0.000000  0.436436  0.00000  0.000000  0.00000   \n",
       "ML     0.000000  0.27735  0.000000  0.277350  0.27735  0.000000  0.27735   \n",
       "\n",
       "        usually      wind  \n",
       "NLP    0.000000  0.000000  \n",
       "Pizza  0.267261  0.000000  \n",
       "tree   0.000000  0.218218  \n",
       "ML     0.000000  0.000000  \n",
       "\n",
       "[4 rows x 40 columns]"
      ]
     },
     "execution_count": 20,
     "metadata": {},
     "output_type": "execute_result"
    }
   ],
   "source": [
    "df = pd.DataFrame(normalize(doctermDF), columns = bag_of_words.get_feature_names(), index = titles)\n",
    "df"
   ]
  },
  {
   "cell_type": "code",
   "execution_count": 21,
   "id": "8d8c6ed2",
   "metadata": {},
   "outputs": [
    {
     "data": {
      "text/plain": [
       "NLP      1.000000\n",
       "ML       0.175412\n",
       "Pizza    0.169031\n",
       "tree     0.000000\n",
       "dtype: float64"
      ]
     },
     "execution_count": 21,
     "metadata": {},
     "output_type": "execute_result"
    }
   ],
   "source": [
    "ref = df.iloc[0]\n",
    "cosines = df.dot(ref)\n",
    "cosines.nlargest()"
   ]
  },
  {
   "cell_type": "code",
   "execution_count": 22,
   "id": "1b121e32",
   "metadata": {},
   "outputs": [],
   "source": [
    "bag_of_words = text.CountVectorizer(stop_words = \"english\")\n",
    "docterm = bag_of_words.fit_transform(docs)\n",
    "doctermDF = pd.DataFrame(docterm.toarray(), columns = bag_of_words.get_feature_names(), index = titles)"
   ]
  },
  {
   "cell_type": "code",
   "execution_count": 23,
   "id": "a509645a",
   "metadata": {},
   "outputs": [
    {
     "data": {
      "text/html": [
       "<div>\n",
       "<style scoped>\n",
       "    .dataframe tbody tr th:only-of-type {\n",
       "        vertical-align: middle;\n",
       "    }\n",
       "\n",
       "    .dataframe tbody tr th {\n",
       "        vertical-align: top;\n",
       "    }\n",
       "\n",
       "    .dataframe thead th {\n",
       "        text-align: right;\n",
       "    }\n",
       "</style>\n",
       "<table border=\"1\" class=\"dataframe\">\n",
       "  <thead>\n",
       "    <tr style=\"text-align: right;\">\n",
       "      <th></th>\n",
       "      <th>analysis</th>\n",
       "      <th>branches</th>\n",
       "      <th>cheese</th>\n",
       "      <th>computation</th>\n",
       "      <th>computational</th>\n",
       "      <th>cosnsits</th>\n",
       "      <th>dish</th>\n",
       "      <th>falling</th>\n",
       "      <th>gently</th>\n",
       "      <th>include</th>\n",
       "      <th>...</th>\n",
       "      <th>prediction</th>\n",
       "      <th>river</th>\n",
       "      <th>savory</th>\n",
       "      <th>swaying</th>\n",
       "      <th>task</th>\n",
       "      <th>textual</th>\n",
       "      <th>tools</th>\n",
       "      <th>using</th>\n",
       "      <th>usually</th>\n",
       "      <th>wind</th>\n",
       "    </tr>\n",
       "  </thead>\n",
       "  <tbody>\n",
       "    <tr>\n",
       "      <th>NLP</th>\n",
       "      <td>1</td>\n",
       "      <td>0</td>\n",
       "      <td>0</td>\n",
       "      <td>1</td>\n",
       "      <td>0</td>\n",
       "      <td>1</td>\n",
       "      <td>0</td>\n",
       "      <td>0</td>\n",
       "      <td>0</td>\n",
       "      <td>0</td>\n",
       "      <td>...</td>\n",
       "      <td>0</td>\n",
       "      <td>0</td>\n",
       "      <td>0</td>\n",
       "      <td>0</td>\n",
       "      <td>0</td>\n",
       "      <td>1</td>\n",
       "      <td>1</td>\n",
       "      <td>0</td>\n",
       "      <td>0</td>\n",
       "      <td>0</td>\n",
       "    </tr>\n",
       "    <tr>\n",
       "      <th>Pizza</th>\n",
       "      <td>0</td>\n",
       "      <td>0</td>\n",
       "      <td>1</td>\n",
       "      <td>0</td>\n",
       "      <td>0</td>\n",
       "      <td>0</td>\n",
       "      <td>1</td>\n",
       "      <td>0</td>\n",
       "      <td>0</td>\n",
       "      <td>1</td>\n",
       "      <td>...</td>\n",
       "      <td>0</td>\n",
       "      <td>0</td>\n",
       "      <td>1</td>\n",
       "      <td>0</td>\n",
       "      <td>0</td>\n",
       "      <td>0</td>\n",
       "      <td>0</td>\n",
       "      <td>0</td>\n",
       "      <td>1</td>\n",
       "      <td>0</td>\n",
       "    </tr>\n",
       "    <tr>\n",
       "      <th>tree</th>\n",
       "      <td>0</td>\n",
       "      <td>1</td>\n",
       "      <td>0</td>\n",
       "      <td>0</td>\n",
       "      <td>0</td>\n",
       "      <td>0</td>\n",
       "      <td>0</td>\n",
       "      <td>1</td>\n",
       "      <td>1</td>\n",
       "      <td>0</td>\n",
       "      <td>...</td>\n",
       "      <td>0</td>\n",
       "      <td>1</td>\n",
       "      <td>0</td>\n",
       "      <td>1</td>\n",
       "      <td>0</td>\n",
       "      <td>0</td>\n",
       "      <td>0</td>\n",
       "      <td>0</td>\n",
       "      <td>0</td>\n",
       "      <td>1</td>\n",
       "    </tr>\n",
       "    <tr>\n",
       "      <th>ML</th>\n",
       "      <td>0</td>\n",
       "      <td>0</td>\n",
       "      <td>0</td>\n",
       "      <td>0</td>\n",
       "      <td>1</td>\n",
       "      <td>0</td>\n",
       "      <td>0</td>\n",
       "      <td>0</td>\n",
       "      <td>0</td>\n",
       "      <td>0</td>\n",
       "      <td>...</td>\n",
       "      <td>1</td>\n",
       "      <td>0</td>\n",
       "      <td>0</td>\n",
       "      <td>0</td>\n",
       "      <td>1</td>\n",
       "      <td>0</td>\n",
       "      <td>0</td>\n",
       "      <td>1</td>\n",
       "      <td>0</td>\n",
       "      <td>0</td>\n",
       "    </tr>\n",
       "  </tbody>\n",
       "</table>\n",
       "<p>4 rows × 31 columns</p>\n",
       "</div>"
      ],
      "text/plain": [
       "       analysis  branches  cheese  computation  computational  cosnsits  dish  \\\n",
       "NLP           1         0       0            1              0         1     0   \n",
       "Pizza         0         0       1            0              0         0     1   \n",
       "tree          0         1       0            0              0         0     0   \n",
       "ML            0         0       0            0              1         0     0   \n",
       "\n",
       "       falling  gently  include  ...  prediction  river  savory  swaying  \\\n",
       "NLP          0       0        0  ...           0      0       0        0   \n",
       "Pizza        0       0        1  ...           0      0       1        0   \n",
       "tree         1       1        0  ...           0      1       0        1   \n",
       "ML           0       0        0  ...           1      0       0        0   \n",
       "\n",
       "       task  textual  tools  using  usually  wind  \n",
       "NLP       0        1      1      0        0     0  \n",
       "Pizza     0        0      0      0        1     0  \n",
       "tree      0        0      0      0        0     1  \n",
       "ML        1        0      0      1        0     0  \n",
       "\n",
       "[4 rows x 31 columns]"
      ]
     },
     "execution_count": 23,
     "metadata": {},
     "output_type": "execute_result"
    }
   ],
   "source": [
    "doctermDF"
   ]
  },
  {
   "cell_type": "code",
   "execution_count": 24,
   "id": "d6cf919e",
   "metadata": {},
   "outputs": [],
   "source": [
    "docs = [\"first document: NLP cosnsits of computation tools of textual analysis\",\n",
    "       \"second document: Pizza is a savory dish of Italian origin and the ingredients usually include cheese.\",\n",
    "       \"third document: leafy branches are swaying in the wind and leaves are gently falling in the river.\",\n",
    "       \"fourth document: The main task of machine learning is using computational methods to do prediction.\"]\n",
    "titles = [\"NLP\", \"Pizza\", \"tree\", \"ML\"]\n",
    "bower = text.CountVectorizer(stop_words = \"english\")\n",
    "docterm = bower.fit_transform(docs)\n",
    "doctermDF = pd.DataFrame(docterm.toarray().T, columns = titles)\n",
    "doctermDF.index = bower.get_feature_names()"
   ]
  },
  {
   "cell_type": "code",
   "execution_count": 25,
   "id": "40662801",
   "metadata": {},
   "outputs": [
    {
     "data": {
      "text/html": [
       "<div>\n",
       "<style scoped>\n",
       "    .dataframe tbody tr th:only-of-type {\n",
       "        vertical-align: middle;\n",
       "    }\n",
       "\n",
       "    .dataframe tbody tr th {\n",
       "        vertical-align: top;\n",
       "    }\n",
       "\n",
       "    .dataframe thead th {\n",
       "        text-align: right;\n",
       "    }\n",
       "</style>\n",
       "<table border=\"1\" class=\"dataframe\">\n",
       "  <thead>\n",
       "    <tr style=\"text-align: right;\">\n",
       "      <th></th>\n",
       "      <th>NLP</th>\n",
       "      <th>Pizza</th>\n",
       "      <th>tree</th>\n",
       "      <th>ML</th>\n",
       "    </tr>\n",
       "  </thead>\n",
       "  <tbody>\n",
       "    <tr>\n",
       "      <th>analysis</th>\n",
       "      <td>1</td>\n",
       "      <td>0</td>\n",
       "      <td>0</td>\n",
       "      <td>0</td>\n",
       "    </tr>\n",
       "    <tr>\n",
       "      <th>branches</th>\n",
       "      <td>0</td>\n",
       "      <td>0</td>\n",
       "      <td>1</td>\n",
       "      <td>0</td>\n",
       "    </tr>\n",
       "    <tr>\n",
       "      <th>cheese</th>\n",
       "      <td>0</td>\n",
       "      <td>1</td>\n",
       "      <td>0</td>\n",
       "      <td>0</td>\n",
       "    </tr>\n",
       "    <tr>\n",
       "      <th>computation</th>\n",
       "      <td>1</td>\n",
       "      <td>0</td>\n",
       "      <td>0</td>\n",
       "      <td>0</td>\n",
       "    </tr>\n",
       "    <tr>\n",
       "      <th>computational</th>\n",
       "      <td>0</td>\n",
       "      <td>0</td>\n",
       "      <td>0</td>\n",
       "      <td>1</td>\n",
       "    </tr>\n",
       "    <tr>\n",
       "      <th>cosnsits</th>\n",
       "      <td>1</td>\n",
       "      <td>0</td>\n",
       "      <td>0</td>\n",
       "      <td>0</td>\n",
       "    </tr>\n",
       "    <tr>\n",
       "      <th>dish</th>\n",
       "      <td>0</td>\n",
       "      <td>1</td>\n",
       "      <td>0</td>\n",
       "      <td>0</td>\n",
       "    </tr>\n",
       "    <tr>\n",
       "      <th>document</th>\n",
       "      <td>1</td>\n",
       "      <td>1</td>\n",
       "      <td>1</td>\n",
       "      <td>1</td>\n",
       "    </tr>\n",
       "    <tr>\n",
       "      <th>falling</th>\n",
       "      <td>0</td>\n",
       "      <td>0</td>\n",
       "      <td>1</td>\n",
       "      <td>0</td>\n",
       "    </tr>\n",
       "    <tr>\n",
       "      <th>fourth</th>\n",
       "      <td>0</td>\n",
       "      <td>0</td>\n",
       "      <td>0</td>\n",
       "      <td>1</td>\n",
       "    </tr>\n",
       "    <tr>\n",
       "      <th>gently</th>\n",
       "      <td>0</td>\n",
       "      <td>0</td>\n",
       "      <td>1</td>\n",
       "      <td>0</td>\n",
       "    </tr>\n",
       "    <tr>\n",
       "      <th>include</th>\n",
       "      <td>0</td>\n",
       "      <td>1</td>\n",
       "      <td>0</td>\n",
       "      <td>0</td>\n",
       "    </tr>\n",
       "    <tr>\n",
       "      <th>ingredients</th>\n",
       "      <td>0</td>\n",
       "      <td>1</td>\n",
       "      <td>0</td>\n",
       "      <td>0</td>\n",
       "    </tr>\n",
       "    <tr>\n",
       "      <th>italian</th>\n",
       "      <td>0</td>\n",
       "      <td>1</td>\n",
       "      <td>0</td>\n",
       "      <td>0</td>\n",
       "    </tr>\n",
       "    <tr>\n",
       "      <th>leafy</th>\n",
       "      <td>0</td>\n",
       "      <td>0</td>\n",
       "      <td>1</td>\n",
       "      <td>0</td>\n",
       "    </tr>\n",
       "    <tr>\n",
       "      <th>learning</th>\n",
       "      <td>0</td>\n",
       "      <td>0</td>\n",
       "      <td>0</td>\n",
       "      <td>1</td>\n",
       "    </tr>\n",
       "    <tr>\n",
       "      <th>leaves</th>\n",
       "      <td>0</td>\n",
       "      <td>0</td>\n",
       "      <td>1</td>\n",
       "      <td>0</td>\n",
       "    </tr>\n",
       "    <tr>\n",
       "      <th>machine</th>\n",
       "      <td>0</td>\n",
       "      <td>0</td>\n",
       "      <td>0</td>\n",
       "      <td>1</td>\n",
       "    </tr>\n",
       "    <tr>\n",
       "      <th>main</th>\n",
       "      <td>0</td>\n",
       "      <td>0</td>\n",
       "      <td>0</td>\n",
       "      <td>1</td>\n",
       "    </tr>\n",
       "    <tr>\n",
       "      <th>methods</th>\n",
       "      <td>0</td>\n",
       "      <td>0</td>\n",
       "      <td>0</td>\n",
       "      <td>1</td>\n",
       "    </tr>\n",
       "    <tr>\n",
       "      <th>nlp</th>\n",
       "      <td>1</td>\n",
       "      <td>0</td>\n",
       "      <td>0</td>\n",
       "      <td>0</td>\n",
       "    </tr>\n",
       "    <tr>\n",
       "      <th>origin</th>\n",
       "      <td>0</td>\n",
       "      <td>1</td>\n",
       "      <td>0</td>\n",
       "      <td>0</td>\n",
       "    </tr>\n",
       "    <tr>\n",
       "      <th>pizza</th>\n",
       "      <td>0</td>\n",
       "      <td>1</td>\n",
       "      <td>0</td>\n",
       "      <td>0</td>\n",
       "    </tr>\n",
       "    <tr>\n",
       "      <th>prediction</th>\n",
       "      <td>0</td>\n",
       "      <td>0</td>\n",
       "      <td>0</td>\n",
       "      <td>1</td>\n",
       "    </tr>\n",
       "    <tr>\n",
       "      <th>river</th>\n",
       "      <td>0</td>\n",
       "      <td>0</td>\n",
       "      <td>1</td>\n",
       "      <td>0</td>\n",
       "    </tr>\n",
       "    <tr>\n",
       "      <th>savory</th>\n",
       "      <td>0</td>\n",
       "      <td>1</td>\n",
       "      <td>0</td>\n",
       "      <td>0</td>\n",
       "    </tr>\n",
       "    <tr>\n",
       "      <th>second</th>\n",
       "      <td>0</td>\n",
       "      <td>1</td>\n",
       "      <td>0</td>\n",
       "      <td>0</td>\n",
       "    </tr>\n",
       "    <tr>\n",
       "      <th>swaying</th>\n",
       "      <td>0</td>\n",
       "      <td>0</td>\n",
       "      <td>1</td>\n",
       "      <td>0</td>\n",
       "    </tr>\n",
       "    <tr>\n",
       "      <th>task</th>\n",
       "      <td>0</td>\n",
       "      <td>0</td>\n",
       "      <td>0</td>\n",
       "      <td>1</td>\n",
       "    </tr>\n",
       "    <tr>\n",
       "      <th>textual</th>\n",
       "      <td>1</td>\n",
       "      <td>0</td>\n",
       "      <td>0</td>\n",
       "      <td>0</td>\n",
       "    </tr>\n",
       "    <tr>\n",
       "      <th>tools</th>\n",
       "      <td>1</td>\n",
       "      <td>0</td>\n",
       "      <td>0</td>\n",
       "      <td>0</td>\n",
       "    </tr>\n",
       "    <tr>\n",
       "      <th>using</th>\n",
       "      <td>0</td>\n",
       "      <td>0</td>\n",
       "      <td>0</td>\n",
       "      <td>1</td>\n",
       "    </tr>\n",
       "    <tr>\n",
       "      <th>usually</th>\n",
       "      <td>0</td>\n",
       "      <td>1</td>\n",
       "      <td>0</td>\n",
       "      <td>0</td>\n",
       "    </tr>\n",
       "    <tr>\n",
       "      <th>wind</th>\n",
       "      <td>0</td>\n",
       "      <td>0</td>\n",
       "      <td>1</td>\n",
       "      <td>0</td>\n",
       "    </tr>\n",
       "  </tbody>\n",
       "</table>\n",
       "</div>"
      ],
      "text/plain": [
       "               NLP  Pizza  tree  ML\n",
       "analysis         1      0     0   0\n",
       "branches         0      0     1   0\n",
       "cheese           0      1     0   0\n",
       "computation      1      0     0   0\n",
       "computational    0      0     0   1\n",
       "cosnsits         1      0     0   0\n",
       "dish             0      1     0   0\n",
       "document         1      1     1   1\n",
       "falling          0      0     1   0\n",
       "fourth           0      0     0   1\n",
       "gently           0      0     1   0\n",
       "include          0      1     0   0\n",
       "ingredients      0      1     0   0\n",
       "italian          0      1     0   0\n",
       "leafy            0      0     1   0\n",
       "learning         0      0     0   1\n",
       "leaves           0      0     1   0\n",
       "machine          0      0     0   1\n",
       "main             0      0     0   1\n",
       "methods          0      0     0   1\n",
       "nlp              1      0     0   0\n",
       "origin           0      1     0   0\n",
       "pizza            0      1     0   0\n",
       "prediction       0      0     0   1\n",
       "river            0      0     1   0\n",
       "savory           0      1     0   0\n",
       "second           0      1     0   0\n",
       "swaying          0      0     1   0\n",
       "task             0      0     0   1\n",
       "textual          1      0     0   0\n",
       "tools            1      0     0   0\n",
       "using            0      0     0   1\n",
       "usually          0      1     0   0\n",
       "wind             0      0     1   0"
      ]
     },
     "execution_count": 25,
     "metadata": {},
     "output_type": "execute_result"
    }
   ],
   "source": [
    "doctermDF"
   ]
  },
  {
   "cell_type": "code",
   "execution_count": 26,
   "id": "42137148",
   "metadata": {},
   "outputs": [
    {
     "data": {
      "text/plain": [
       "NLP      1.000000\n",
       "ML       0.175412\n",
       "Pizza    0.169031\n",
       "tree     0.000000\n",
       "dtype: float64"
      ]
     },
     "execution_count": 26,
     "metadata": {},
     "output_type": "execute_result"
    }
   ],
   "source": [
    "ref = df.iloc[0]\n",
    "similarities = df.dot(ref)\n",
    "similarities.nlargest()"
   ]
  },
  {
   "cell_type": "markdown",
   "id": "599638c1",
   "metadata": {},
   "source": [
    "## Lecture 2"
   ]
  },
  {
   "cell_type": "code",
   "execution_count": 29,
   "id": "9a588650",
   "metadata": {},
   "outputs": [],
   "source": [
    "import nltk"
   ]
  },
  {
   "cell_type": "code",
   "execution_count": 34,
   "id": "694a6191",
   "metadata": {},
   "outputs": [],
   "source": [
    "text = \"\"\"Poetry is a form of literature that\n",
    "uses aesthetic and often rhythmic qualitties of language-such as phonaesthetics,\n",
    "sound of symbolism, and metre-to evoke meanings in addition to,\n",
    "or in place of, the prosaic ostensible meaning.\n",
    "Poetry has a long history - dating back to prehistoric times with hunting poetry in Africa,\n",
    "and to try panegyric and elegiac court poetry of the empires of the Nile, Niger, and Volta River valleys.\n",
    "\"\"\"\n",
    "nltk_tokenized = nltk.word_tokenize(text)"
   ]
  },
  {
   "cell_type": "code",
   "execution_count": 35,
   "id": "0d423062",
   "metadata": {},
   "outputs": [
    {
     "name": "stdout",
     "output_type": "stream",
     "text": [
      "['Poetry', 'is', 'a', 'form', 'of', 'literature', 'that', 'uses', 'aesthetic', 'and', 'often', 'rhythmic', 'qualitties', 'of', 'language-such', 'as', 'phonaesthetics', ',', 'sound', 'of', 'symbolism', ',', 'and', 'metre-to', 'evoke', 'meanings', 'in', 'addition', 'to', ',', 'or', 'in', 'place', 'of', ',', 'the', 'prosaic', 'ostensible', 'meaning', '.', 'Poetry', 'has', 'a', 'long', 'history', '-', 'dating', 'back', 'to', 'prehistoric', 'times', 'with', 'hunting', 'poetry', 'in', 'Africa', ',', 'and', 'to', 'try', 'panegyric', 'and', 'elegiac', 'court', 'poetry', 'of', 'the', 'empires', 'of', 'the', 'Nile', ',', 'Niger', ',', 'and', 'Volta', 'River', 'valleys', '.']\n"
     ]
    }
   ],
   "source": [
    "print(nltk_tokenized)"
   ]
  },
  {
   "cell_type": "code",
   "execution_count": 36,
   "id": "6b437ccf",
   "metadata": {},
   "outputs": [],
   "source": [
    "porter = nltk.PorterStemmer()\n",
    "porter_results = [porter.stem(t) for t in nltk_tokenized]"
   ]
  },
  {
   "cell_type": "code",
   "execution_count": 37,
   "id": "f9101816",
   "metadata": {},
   "outputs": [
    {
     "name": "stdout",
     "output_type": "stream",
     "text": [
      "['poetri', 'is', 'a', 'form', 'of', 'literatur', 'that', 'use', 'aesthet', 'and', 'often', 'rhythmic', 'qualitti', 'of', 'language-such', 'as', 'phonaesthet', ',', 'sound', 'of', 'symbol', ',', 'and', 'metre-to', 'evok', 'mean', 'in', 'addit', 'to', ',', 'or', 'in', 'place', 'of', ',', 'the', 'prosaic', 'ostens', 'mean', '.', 'poetri', 'ha', 'a', 'long', 'histori', '-', 'date', 'back', 'to', 'prehistor', 'time', 'with', 'hunt', 'poetri', 'in', 'africa', ',', 'and', 'to', 'tri', 'panegyr', 'and', 'elegiac', 'court', 'poetri', 'of', 'the', 'empir', 'of', 'the', 'nile', ',', 'niger', ',', 'and', 'volta', 'river', 'valley', '.']\n"
     ]
    }
   ],
   "source": [
    "print(porter_results)"
   ]
  },
  {
   "cell_type": "code",
   "execution_count": 38,
   "id": "df8b18fe",
   "metadata": {},
   "outputs": [
    {
     "data": {
      "text/plain": [
       "'teacher'"
      ]
     },
     "execution_count": 38,
     "metadata": {},
     "output_type": "execute_result"
    }
   ],
   "source": [
    "porter.stem(\"teacher\")"
   ]
  },
  {
   "cell_type": "code",
   "execution_count": 39,
   "id": "1a7033c1",
   "metadata": {},
   "outputs": [],
   "source": [
    "snowball = nltk.SnowballStemmer(\"english\")\n",
    "snowball_results = [snowball.stem(t) for t in nltk_tokenized]"
   ]
  },
  {
   "cell_type": "code",
   "execution_count": 40,
   "id": "ced277b4",
   "metadata": {},
   "outputs": [
    {
     "name": "stdout",
     "output_type": "stream",
     "text": [
      "['poetri', 'is', 'a', 'form', 'of', 'literatur', 'that', 'use', 'aesthet', 'and', 'often', 'rhythmic', 'qualitti', 'of', 'language-such', 'as', 'phonaesthet', ',', 'sound', 'of', 'symbol', ',', 'and', 'metre-to', 'evok', 'mean', 'in', 'addit', 'to', ',', 'or', 'in', 'place', 'of', ',', 'the', 'prosaic', 'ostens', 'mean', '.', 'poetri', 'has', 'a', 'long', 'histori', '-', 'date', 'back', 'to', 'prehistor', 'time', 'with', 'hunt', 'poetri', 'in', 'africa', ',', 'and', 'to', 'tri', 'panegyr', 'and', 'elegiac', 'court', 'poetri', 'of', 'the', 'empir', 'of', 'the', 'nile', ',', 'niger', ',', 'and', 'volta', 'river', 'valley', '.']\n"
     ]
    }
   ],
   "source": [
    "print(snowball_results)"
   ]
  },
  {
   "cell_type": "code",
   "execution_count": 43,
   "id": "e61bce7f",
   "metadata": {},
   "outputs": [],
   "source": [
    "# nltk.download('wordnet')\n",
    "lemmatizer = nltk.stem.WordNetLemmatizer()\n",
    "lemmatizer_results = [lemmatizer.lemmatize(t) for t in nltk_tokenized]"
   ]
  },
  {
   "cell_type": "code",
   "execution_count": 44,
   "id": "9c4c1a46",
   "metadata": {},
   "outputs": [
    {
     "name": "stdout",
     "output_type": "stream",
     "text": [
      "['Poetry', 'is', 'a', 'form', 'of', 'literature', 'that', 'us', 'aesthetic', 'and', 'often', 'rhythmic', 'qualitties', 'of', 'language-such', 'a', 'phonaesthetics', ',', 'sound', 'of', 'symbolism', ',', 'and', 'metre-to', 'evoke', 'meaning', 'in', 'addition', 'to', ',', 'or', 'in', 'place', 'of', ',', 'the', 'prosaic', 'ostensible', 'meaning', '.', 'Poetry', 'ha', 'a', 'long', 'history', '-', 'dating', 'back', 'to', 'prehistoric', 'time', 'with', 'hunting', 'poetry', 'in', 'Africa', ',', 'and', 'to', 'try', 'panegyric', 'and', 'elegiac', 'court', 'poetry', 'of', 'the', 'empire', 'of', 'the', 'Nile', ',', 'Niger', ',', 'and', 'Volta', 'River', 'valley', '.']\n"
     ]
    }
   ],
   "source": [
    "print(lemmatizer_results)"
   ]
  },
  {
   "cell_type": "code",
   "execution_count": 49,
   "id": "dccc1e70",
   "metadata": {},
   "outputs": [],
   "source": [
    "from nltk.corpus import stopwords\n",
    "# nltk.download('stopwords')"
   ]
  },
  {
   "cell_type": "code",
   "execution_count": 50,
   "id": "5c42b1ea",
   "metadata": {},
   "outputs": [
    {
     "name": "stdout",
     "output_type": "stream",
     "text": [
      "['a', 'about', 'above', 'after', 'again', 'against', 'ain', 'all', 'am', 'an', 'and', 'any', 'are', 'aren', \"aren't\", 'as', 'at', 'be', 'because', 'been', 'before', 'being', 'below', 'between', 'both', 'but', 'by', 'can', 'couldn', \"couldn't\", 'd', 'did', 'didn', \"didn't\", 'do', 'does', 'doesn', \"doesn't\", 'doing', 'don', \"don't\", 'down', 'during', 'each', 'few', 'for', 'from', 'further', 'had', 'hadn', \"hadn't\", 'has', 'hasn', \"hasn't\", 'have', 'haven', \"haven't\", 'having', 'he', 'her', 'here', 'hers', 'herself', 'him', 'himself', 'his', 'how', 'i', 'if', 'in', 'into', 'is', 'isn', \"isn't\", 'it', \"it's\", 'its', 'itself', 'just', 'll', 'm', 'ma', 'me', 'mightn', \"mightn't\", 'more', 'most', 'mustn', \"mustn't\", 'my', 'myself', 'needn', \"needn't\", 'no', 'nor', 'not', 'now', 'o', 'of', 'off', 'on', 'once', 'only', 'or', 'other', 'our', 'ours', 'ourselves', 'out', 'over', 'own', 're', 's', 'same', 'shan', \"shan't\", 'she', \"she's\", 'should', \"should've\", 'shouldn', \"shouldn't\", 'so', 'some', 'such', 't', 'than', 'that', \"that'll\", 'the', 'their', 'theirs', 'them', 'themselves', 'then', 'there', 'these', 'they', 'this', 'those', 'through', 'to', 'too', 'under', 'until', 'up', 've', 'very', 'was', 'wasn', \"wasn't\", 'we', 'were', 'weren', \"weren't\", 'what', 'when', 'where', 'which', 'while', 'who', 'whom', 'why', 'will', 'with', 'won', \"won't\", 'wouldn', \"wouldn't\", 'y', 'you', \"you'd\", \"you'll\", \"you're\", \"you've\", 'your', 'yours', 'yourself', 'yourselves']\n"
     ]
    }
   ],
   "source": [
    "print(sorted(stopwords.words(\"english\"))) # List of preset ignored words"
   ]
  },
  {
   "cell_type": "code",
   "execution_count": 52,
   "id": "43be90fa",
   "metadata": {},
   "outputs": [
    {
     "name": "stdout",
     "output_type": "stream",
     "text": [
      "['Poetry', 'form', 'literature', 'uses', 'aesthetic', 'often', 'rhythmic', 'qualitties', 'language-such', 'phonaesthetics', ',', 'sound', 'symbolism', ',', 'metre-to', 'evoke', 'meanings', 'addition', ',', 'place', ',', 'prosaic', 'ostensible', 'meaning', '.', 'Poetry', 'long', 'history', '-', 'dating', 'back', 'prehistoric', 'times', 'hunting', 'poetry', 'Africa', ',', 'try', 'panegyric', 'elegiac', 'court', 'poetry', 'empires', 'Nile', ',', 'Niger', ',', 'Volta', 'River', 'valleys', '.']\n"
     ]
    }
   ],
   "source": [
    "text_noStopWords = [w for w in nltk_tokenized if w not in stopwords.words(\"english\")]\n",
    "print(text_noStopWords)"
   ]
  },
  {
   "cell_type": "code",
   "execution_count": 55,
   "id": "ff53a856",
   "metadata": {},
   "outputs": [
    {
     "name": "stderr",
     "output_type": "stream",
     "text": [
      "[nltk_data] Downloading package averaged_perceptron_tagger to\n",
      "[nltk_data]     /home/nachfolger/nltk_data...\n",
      "[nltk_data]   Unzipping taggers/averaged_perceptron_tagger.zip.\n"
     ]
    },
    {
     "data": {
      "text/plain": [
       "True"
      ]
     },
     "execution_count": 55,
     "metadata": {},
     "output_type": "execute_result"
    }
   ],
   "source": [
    "from nltk import pos_tag\n",
    "# nltk.download('averaged_perceptron_tagger')"
   ]
  },
  {
   "cell_type": "code",
   "execution_count": 57,
   "id": "fa9739a1",
   "metadata": {},
   "outputs": [
    {
     "name": "stdout",
     "output_type": "stream",
     "text": [
      "[('Poetry', 'NN'), ('is', 'VBZ'), ('a', 'DT'), ('form', 'NN'), ('of', 'IN'), ('literature', 'NN'), ('that', 'WDT'), ('uses', 'VBZ'), ('aesthetic', 'JJ'), ('and', 'CC'), ('often', 'RB'), ('rhythmic', 'JJ'), ('qualitties', 'NNS'), ('of', 'IN'), ('language-such', 'JJ'), ('as', 'IN'), ('phonaesthetics', 'NNS'), (',', ','), ('sound', 'NN'), ('of', 'IN'), ('symbolism', 'NN'), (',', ','), ('and', 'CC'), ('metre-to', 'JJ'), ('evoke', 'NN'), ('meanings', 'NNS'), ('in', 'IN'), ('addition', 'NN'), ('to', 'TO'), (',', ','), ('or', 'CC'), ('in', 'IN'), ('place', 'NN'), ('of', 'IN'), (',', ','), ('the', 'DT'), ('prosaic', 'NN'), ('ostensible', 'JJ'), ('meaning', 'NN'), ('.', '.'), ('Poetry', 'NNP'), ('has', 'VBZ'), ('a', 'DT'), ('long', 'JJ'), ('history', 'NN'), ('-', ':'), ('dating', 'VBG'), ('back', 'RB'), ('to', 'TO'), ('prehistoric', 'VB'), ('times', 'NNS'), ('with', 'IN'), ('hunting', 'VBG'), ('poetry', 'NN'), ('in', 'IN'), ('Africa', 'NNP'), (',', ','), ('and', 'CC'), ('to', 'TO'), ('try', 'VB'), ('panegyric', 'JJ'), ('and', 'CC'), ('elegiac', 'JJ'), ('court', 'NN'), ('poetry', 'NN'), ('of', 'IN'), ('the', 'DT'), ('empires', 'NNS'), ('of', 'IN'), ('the', 'DT'), ('Nile', 'NNP'), (',', ','), ('Niger', 'NNP'), (',', ','), ('and', 'CC'), ('Volta', 'NNP'), ('River', 'NNP'), ('valleys', 'NNS'), ('.', '.')]\n"
     ]
    }
   ],
   "source": [
    "sentence_pos = pos_tag(nltk_tokenized)\n",
    "print(sentence_pos)"
   ]
  },
  {
   "cell_type": "code",
   "execution_count": 59,
   "id": "47cd231d",
   "metadata": {},
   "outputs": [],
   "source": [
    "import spacy"
   ]
  },
  {
   "cell_type": "code",
   "execution_count": 61,
   "id": "0aebed8e",
   "metadata": {},
   "outputs": [],
   "source": [
    "nlp = spacy.load(\"en_core_web_sm\")"
   ]
  },
  {
   "cell_type": "code",
   "execution_count": 63,
   "id": "10036d0c",
   "metadata": {},
   "outputs": [],
   "source": [
    "spacy_doc = nlp(text)"
   ]
  },
  {
   "cell_type": "code",
   "execution_count": null,
   "id": "27c5dfe0",
   "metadata": {},
   "outputs": [],
   "source": [
    "print([w.text for w in spacy_doc])"
   ]
  },
  {
   "cell_type": "code",
   "execution_count": null,
   "id": "3f74fa7e",
   "metadata": {},
   "outputs": [],
   "source": [
    "ents = spacy_doc.ents"
   ]
  },
  {
   "cell_type": "code",
   "execution_count": null,
   "id": "1f3b3795",
   "metadata": {},
   "outputs": [],
   "source": [
    "for x in ents:\n",
    "    print(x.text + \": \" + x.label_) # Print the text and what spacy thinks it is"
   ]
  },
  {
   "cell_type": "code",
   "execution_count": null,
   "id": "092c86ee",
   "metadata": {},
   "outputs": [],
   "source": [
    "sentences = spacy_doc.sents\n",
    "for x in sentences:\n",
    "    print(x.text + \": \" + x.label_) # Print the text and whether it's a sentence"
   ]
  },
  {
   "cell_type": "code",
   "execution_count": 64,
   "id": "607ff8f4",
   "metadata": {},
   "outputs": [],
   "source": [
    "import textblob"
   ]
  },
  {
   "cell_type": "code",
   "execution_count": 65,
   "id": "4172d4cd",
   "metadata": {},
   "outputs": [],
   "source": [
    "tb_doc = textblob.TextBlob(text)"
   ]
  },
  {
   "cell_type": "code",
   "execution_count": 66,
   "id": "ba5195a9",
   "metadata": {},
   "outputs": [
    {
     "name": "stdout",
     "output_type": "stream",
     "text": [
      "['Poetry', 'is', 'a', 'form', 'of', 'literature', 'that', 'uses', 'aesthetic', 'and', 'often', 'rhythmic', 'qualitties', 'of', 'language-such', 'as', 'phonaesthetics', 'sound', 'of', 'symbolism', 'and', 'metre-to', 'evoke', 'meanings', 'in', 'addition', 'to', 'or', 'in', 'place', 'of', 'the', 'prosaic', 'ostensible', 'meaning', 'Poetry', 'has', 'a', 'long', 'history', 'dating', 'back', 'to', 'prehistoric', 'times', 'with', 'hunting', 'poetry', 'in', 'Africa', 'and', 'to', 'try', 'panegyric', 'and', 'elegiac', 'court', 'poetry', 'of', 'the', 'empires', 'of', 'the', 'Nile', 'Niger', 'and', 'Volta', 'River', 'valleys']\n"
     ]
    }
   ],
   "source": [
    "print(tb_doc.words)"
   ]
  },
  {
   "cell_type": "code",
   "execution_count": 67,
   "id": "f9e74504",
   "metadata": {},
   "outputs": [
    {
     "name": "stdout",
     "output_type": "stream",
     "text": [
      "['Poetry', 'is', 'a', 'form', 'of', 'literature', 'that', 'us', 'aesthetic', 'and', 'often', 'rhythmic', 'qualitties', 'of', 'language-such', 'a', 'phonaesthetics', 'sound', 'of', 'symbolism', 'and', 'metre-to', 'evoke', 'meaning', 'in', 'addition', 'to', 'or', 'in', 'place', 'of', 'the', 'prosaic', 'ostensible', 'meaning', 'Poetry', 'ha', 'a', 'long', 'history', 'dating', 'back', 'to', 'prehistoric', 'time', 'with', 'hunting', 'poetry', 'in', 'Africa', 'and', 'to', 'try', 'panegyric', 'and', 'elegiac', 'court', 'poetry', 'of', 'the', 'empire', 'of', 'the', 'Nile', 'Niger', 'and', 'Volta', 'River', 'valley']\n"
     ]
    }
   ],
   "source": [
    "print([w.lemmatize() for w in tb_doc.words])"
   ]
  },
  {
   "cell_type": "code",
   "execution_count": 68,
   "id": "9eb16557",
   "metadata": {},
   "outputs": [
    {
     "data": {
      "text/plain": [
       "[Sentence(\"Poetry is a form of literature that\n",
       " uses aesthetic and often rhythmic qualitties of language-such as phonaesthetics,\n",
       " sound of symbolism, and metre-to evoke meanings in addition to,\n",
       " or in place of, the prosaic ostensible meaning.\"),\n",
       " Sentence(\"Poetry has a long history - dating back to prehistoric times with hunting poetry in Africa,\n",
       " and to try panegyric and elegiac court poetry of the empires of the Nile, Niger, and Volta River valleys.\")]"
      ]
     },
     "execution_count": 68,
     "metadata": {},
     "output_type": "execute_result"
    }
   ],
   "source": [
    "tb_doc.sentences # Detect sentences"
   ]
  },
  {
   "cell_type": "code",
   "execution_count": 69,
   "id": "92151eb6",
   "metadata": {},
   "outputs": [
    {
     "data": {
      "text/plain": [
       "[WordList(['Poetry', 'is']),\n",
       " WordList(['is', 'a']),\n",
       " WordList(['a', 'form']),\n",
       " WordList(['form', 'of']),\n",
       " WordList(['of', 'literature']),\n",
       " WordList(['literature', 'that']),\n",
       " WordList(['that', 'uses']),\n",
       " WordList(['uses', 'aesthetic']),\n",
       " WordList(['aesthetic', 'and']),\n",
       " WordList(['and', 'often']),\n",
       " WordList(['often', 'rhythmic']),\n",
       " WordList(['rhythmic', 'qualitties']),\n",
       " WordList(['qualitties', 'of']),\n",
       " WordList(['of', 'language-such']),\n",
       " WordList(['language-such', 'as']),\n",
       " WordList(['as', 'phonaesthetics']),\n",
       " WordList(['phonaesthetics', 'sound']),\n",
       " WordList(['sound', 'of']),\n",
       " WordList(['of', 'symbolism']),\n",
       " WordList(['symbolism', 'and']),\n",
       " WordList(['and', 'metre-to']),\n",
       " WordList(['metre-to', 'evoke']),\n",
       " WordList(['evoke', 'meanings']),\n",
       " WordList(['meanings', 'in']),\n",
       " WordList(['in', 'addition']),\n",
       " WordList(['addition', 'to']),\n",
       " WordList(['to', 'or']),\n",
       " WordList(['or', 'in']),\n",
       " WordList(['in', 'place']),\n",
       " WordList(['place', 'of']),\n",
       " WordList(['of', 'the']),\n",
       " WordList(['the', 'prosaic']),\n",
       " WordList(['prosaic', 'ostensible']),\n",
       " WordList(['ostensible', 'meaning']),\n",
       " WordList(['meaning', 'Poetry']),\n",
       " WordList(['Poetry', 'has']),\n",
       " WordList(['has', 'a']),\n",
       " WordList(['a', 'long']),\n",
       " WordList(['long', 'history']),\n",
       " WordList(['history', 'dating']),\n",
       " WordList(['dating', 'back']),\n",
       " WordList(['back', 'to']),\n",
       " WordList(['to', 'prehistoric']),\n",
       " WordList(['prehistoric', 'times']),\n",
       " WordList(['times', 'with']),\n",
       " WordList(['with', 'hunting']),\n",
       " WordList(['hunting', 'poetry']),\n",
       " WordList(['poetry', 'in']),\n",
       " WordList(['in', 'Africa']),\n",
       " WordList(['Africa', 'and']),\n",
       " WordList(['and', 'to']),\n",
       " WordList(['to', 'try']),\n",
       " WordList(['try', 'panegyric']),\n",
       " WordList(['panegyric', 'and']),\n",
       " WordList(['and', 'elegiac']),\n",
       " WordList(['elegiac', 'court']),\n",
       " WordList(['court', 'poetry']),\n",
       " WordList(['poetry', 'of']),\n",
       " WordList(['of', 'the']),\n",
       " WordList(['the', 'empires']),\n",
       " WordList(['empires', 'of']),\n",
       " WordList(['of', 'the']),\n",
       " WordList(['the', 'Nile']),\n",
       " WordList(['Nile', 'Niger']),\n",
       " WordList(['Niger', 'and']),\n",
       " WordList(['and', 'Volta']),\n",
       " WordList(['Volta', 'River']),\n",
       " WordList(['River', 'valleys'])]"
      ]
     },
     "execution_count": 69,
     "metadata": {},
     "output_type": "execute_result"
    }
   ],
   "source": [
    "tb_doc.ngrams(n = 2)"
   ]
  },
  {
   "cell_type": "code",
   "execution_count": 72,
   "id": "dc1ffa26",
   "metadata": {},
   "outputs": [
    {
     "name": "stdout",
     "output_type": "stream",
     "text": [
      "['poetry', 'uses aesthetic', 'rhythmic qualitties', 'metre-to evoke meanings', 'prosaic ostensible meaning', 'poetry', 'long history', 'prehistoric times', 'africa', 'elegiac court poetry', 'nile', 'niger', 'volta', 'river valleys']\n"
     ]
    }
   ],
   "source": [
    "# nltk.download(\"brown\")\n",
    "print(tb_doc.noun_phrases)"
   ]
  },
  {
   "cell_type": "code",
   "execution_count": 73,
   "id": "a8301c78",
   "metadata": {},
   "outputs": [
    {
     "data": {
      "text/plain": [
       "defaultdict(int,\n",
       "            {'poetry': 2,\n",
       "             'uses aesthetic': 1,\n",
       "             'rhythmic qualitties': 1,\n",
       "             'metre-to evoke meanings': 1,\n",
       "             'prosaic ostensible meaning': 1,\n",
       "             'long history': 1,\n",
       "             'prehistoric times': 1,\n",
       "             'africa': 1,\n",
       "             'elegiac court poetry': 1,\n",
       "             'nile': 1,\n",
       "             'niger': 1,\n",
       "             'volta': 1,\n",
       "             'river valleys': 1})"
      ]
     },
     "execution_count": 73,
     "metadata": {},
     "output_type": "execute_result"
    }
   ],
   "source": [
    "tb_doc.np_counts"
   ]
  },
  {
   "cell_type": "code",
   "execution_count": 74,
   "id": "bf89bcf3",
   "metadata": {},
   "outputs": [
    {
     "data": {
      "text/plain": [
       "Sentiment(polarity=0.11666666666666668, subjectivity=0.26666666666666666)"
      ]
     },
     "execution_count": 74,
     "metadata": {},
     "output_type": "execute_result"
    }
   ],
   "source": [
    "tb_doc.sentiment"
   ]
  },
  {
   "cell_type": "code",
   "execution_count": 75,
   "id": "a10e90d5",
   "metadata": {},
   "outputs": [
    {
     "data": {
      "text/plain": [
       "WordList(['Poetry', 'is', 'a', 'form', 'of', 'literature', 'that', 'uses', 'aesthetic', 'and', 'often', 'rhythmic', 'qualitties', 'of', 'language-such', 'as', 'phonaesthetics', ',', 'sound', 'of', 'symbolism', ',', 'and', 'metre-to', 'evoke', 'meanings', 'in', 'addition', 'to', ',', 'or', 'in', 'place', 'of', ',', 'the', 'prosaic', 'ostensible', 'meaning', '.', 'Poetry', 'has', 'a', 'long', 'history', '-', 'dating', 'back', 'to', 'prehistoric', 'times', 'with', 'hunting', 'poetry', 'in', 'Africa', ',', 'and', 'to', 'try', 'panegyric', 'and', 'elegiac', 'court', 'poetry', 'of', 'the', 'empires', 'of', 'the', 'Nile', ',', 'Niger', ',', 'and', 'Volta', 'River', 'valleys', '.'])"
      ]
     },
     "execution_count": 75,
     "metadata": {},
     "output_type": "execute_result"
    }
   ],
   "source": [
    "tb_doc.tokens"
   ]
  },
  {
   "cell_type": "code",
   "execution_count": 76,
   "id": "322be67c",
   "metadata": {},
   "outputs": [
    {
     "data": {
      "text/plain": [
       "Sentiment(polarity=0.7, subjectivity=0.6000000000000001)"
      ]
     },
     "execution_count": 76,
     "metadata": {},
     "output_type": "execute_result"
    }
   ],
   "source": [
    "x = textblob.TextBlob(\"good\")\n",
    "x.sentiment"
   ]
  },
  {
   "cell_type": "code",
   "execution_count": 77,
   "id": "a15851fc",
   "metadata": {},
   "outputs": [
    {
     "data": {
      "text/plain": [
       "Sentiment(polarity=-0.8749999999999998, subjectivity=0.6666666666666666)"
      ]
     },
     "execution_count": 77,
     "metadata": {},
     "output_type": "execute_result"
    }
   ],
   "source": [
    "x = textblob.TextBlob(\"this food is bad!\")\n",
    "x.sentiment"
   ]
  },
  {
   "cell_type": "code",
   "execution_count": null,
   "id": "81d9bec0",
   "metadata": {},
   "outputs": [],
   "source": []
  }
 ],
 "metadata": {
  "kernelspec": {
   "display_name": "Python 3",
   "language": "python",
   "name": "python3"
  },
  "language_info": {
   "codemirror_mode": {
    "name": "ipython",
    "version": 3
   },
   "file_extension": ".py",
   "mimetype": "text/x-python",
   "name": "python",
   "nbconvert_exporter": "python",
   "pygments_lexer": "ipython3",
   "version": "3.8.8"
  }
 },
 "nbformat": 4,
 "nbformat_minor": 5
}
