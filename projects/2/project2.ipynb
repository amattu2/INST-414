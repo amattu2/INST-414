{
 "cells": [
  {
   "cell_type": "code",
   "execution_count": null,
   "id": "54494caa",
   "metadata": {},
   "outputs": [],
   "source": [
    "'''\n",
    "Alec K. Mattu\n",
    "INST 414\n",
    "07/02/2021\n",
    "\n",
    "Project 2\n",
    "'''"
   ]
  },
  {
   "cell_type": "code",
   "execution_count": 15,
   "id": "50c19f90",
   "metadata": {},
   "outputs": [],
   "source": [
    "# Import the needed libraries\n",
    "import csv\n",
    "import numpy as np\n",
    "import pandas as pd\n",
    "import matplotlib.pyplot as plt\n",
    "import seaborn as sns\n",
    "from sklearn.preprocessing import MinMaxScaler\n",
    "from sklearn.feature_extraction import text"
   ]
  },
  {
   "cell_type": "code",
   "execution_count": 2,
   "id": "b59547ce",
   "metadata": {},
   "outputs": [],
   "source": [
    "# Variable for songs\n",
    "songs = []\n",
    "\n",
    "# Open CSV and read each row into songs variable\n",
    "with open('dataset_output.csv') as cvf:\n",
    "    reader = csv.DictReader(cvf)\n",
    "    for row in reader:\n",
    "        songs.append(row)"
   ]
  },
  {
   "cell_type": "code",
   "execution_count": 4,
   "id": "7de2af94",
   "metadata": {},
   "outputs": [
    {
     "data": {
      "text/plain": [
       "{'song title': 'Dolly Dawn',\n",
       " 'artist/band name': 'Harry Belafonte',\n",
       " 'year': '1956',\n",
       " 'lyrics url': 'https://www.azlyrics.com/lyrics/harrybelafonte/dollydawn.html',\n",
       " 'lyrics': 'Look, look at Dolly,\\nPretty, pretty, pretty, pretty, pretty, pretty dolly\\nOh here she come, here she come, here she come\\nPretty, pretty Dolly\\nWhen Dolly hear them sound the drum\\nUp she jump she holler: \"Here I Come\"\\nCause she gonna dance, she gonna sing\\nShe gonna cause the rafters to ring\\nCause she gonna dance, she gonna sing\\nShe gonna cause the rafters to ring\\nDon\\'t stop her when she hear the call\\nDolly Dawn goin\\' to have herself a ball\\nWhen Dolly start to shake an shout\\nClear the floor cause she really move about\\nWhen Dolly go into a turn\\nAll men jump and their eyes begin to burn\\nSoon Dolly go into a fall\\nTurn an\\' spin then she starts to climb the wall\\nSoon Dolly go into a fall\\nTurn an\\' spin and then she climb the wall'}"
      ]
     },
     "execution_count": 4,
     "metadata": {},
     "output_type": "execute_result"
    }
   ],
   "source": [
    "# View Excerpt \n",
    "songs[3]"
   ]
  },
  {
   "cell_type": "code",
   "execution_count": 8,
   "id": "1c2747a2",
   "metadata": {},
   "outputs": [],
   "source": [
    "# Turn the songs variable into a Pandas DF\n",
    "song_df = pd.DataFrame(songs)"
   ]
  },
  {
   "cell_type": "code",
   "execution_count": 9,
   "id": "e8c95664",
   "metadata": {},
   "outputs": [
    {
     "data": {
      "text/html": [
       "<div>\n",
       "<style scoped>\n",
       "    .dataframe tbody tr th:only-of-type {\n",
       "        vertical-align: middle;\n",
       "    }\n",
       "\n",
       "    .dataframe tbody tr th {\n",
       "        vertical-align: top;\n",
       "    }\n",
       "\n",
       "    .dataframe thead th {\n",
       "        text-align: right;\n",
       "    }\n",
       "</style>\n",
       "<table border=\"1\" class=\"dataframe\">\n",
       "  <thead>\n",
       "    <tr style=\"text-align: right;\">\n",
       "      <th></th>\n",
       "      <th>song title</th>\n",
       "      <th>artist/band name</th>\n",
       "      <th>year</th>\n",
       "      <th>lyrics url</th>\n",
       "      <th>lyrics</th>\n",
       "    </tr>\n",
       "  </thead>\n",
       "  <tbody>\n",
       "    <tr>\n",
       "      <th>0</th>\n",
       "      <td>Shaking The Blues Away</td>\n",
       "      <td>Doris Day</td>\n",
       "      <td>1955</td>\n",
       "      <td>https://www.azlyrics.com/lyrics/dorisday/shaki...</td>\n",
       "      <td>There's an old superstition 'way down south\\nE...</td>\n",
       "    </tr>\n",
       "    <tr>\n",
       "      <th>1</th>\n",
       "      <td>Mood Indigo</td>\n",
       "      <td>Sinatra, Frank</td>\n",
       "      <td>1955</td>\n",
       "      <td>https://www.azlyrics.com/lyrics/franksinatra/m...</td>\n",
       "      <td>You ain't been blue; no, no, no\\nYou ain't bee...</td>\n",
       "    </tr>\n",
       "    <tr>\n",
       "      <th>2</th>\n",
       "      <td>All Alone</td>\n",
       "      <td>Julie London</td>\n",
       "      <td>1956</td>\n",
       "      <td>https://www.azlyrics.com/lyrics/julielondon/al...</td>\n",
       "      <td>All alone, I'm so all alone\\nThere is no one e...</td>\n",
       "    </tr>\n",
       "    <tr>\n",
       "      <th>3</th>\n",
       "      <td>Dolly Dawn</td>\n",
       "      <td>Harry Belafonte</td>\n",
       "      <td>1956</td>\n",
       "      <td>https://www.azlyrics.com/lyrics/harrybelafonte...</td>\n",
       "      <td>Look, look at Dolly,\\nPretty, pretty, pretty, ...</td>\n",
       "    </tr>\n",
       "    <tr>\n",
       "      <th>4</th>\n",
       "      <td>You're My Thrill</td>\n",
       "      <td>Lee, Peggy</td>\n",
       "      <td>1956</td>\n",
       "      <td>https://www.azlyrics.com/lyrics/peggylee/youre...</td>\n",
       "      <td>You're my thrill, you do something to me\\nYou ...</td>\n",
       "    </tr>\n",
       "    <tr>\n",
       "      <th>...</th>\n",
       "      <td>...</td>\n",
       "      <td>...</td>\n",
       "      <td>...</td>\n",
       "      <td>...</td>\n",
       "      <td>...</td>\n",
       "    </tr>\n",
       "    <tr>\n",
       "      <th>495</th>\n",
       "      <td>You Dancy</td>\n",
       "      <td>Tommy Lee</td>\n",
       "      <td>2020</td>\n",
       "      <td>https://www.azlyrics.com/lyrics/tommylee/youda...</td>\n",
       "      <td>I said, \"You have any drums in your house?\"\\nD...</td>\n",
       "    </tr>\n",
       "    <tr>\n",
       "      <th>496</th>\n",
       "      <td>I Just Love You</td>\n",
       "      <td>UPPERROOM</td>\n",
       "      <td>2020</td>\n",
       "      <td>https://www.azlyrics.com/lyrics/upperroom/ijus...</td>\n",
       "      <td>I just wanna move You\\nWhat moves You?\\nI just...</td>\n",
       "    </tr>\n",
       "    <tr>\n",
       "      <th>497</th>\n",
       "      <td>Cowgirl Blues (Mark Wystrach Vocal)</td>\n",
       "      <td>Midland</td>\n",
       "      <td>2021</td>\n",
       "      <td>https://www.azlyrics.com/lyrics/midland/cowgir...</td>\n",
       "      <td>So long, my hill country woman\\nDon't cry\\nBut...</td>\n",
       "    </tr>\n",
       "    <tr>\n",
       "      <th>498</th>\n",
       "      <td>Lights On</td>\n",
       "      <td>Blue Stones, The</td>\n",
       "      <td>2021</td>\n",
       "      <td>https://www.azlyrics.com/lyrics/bluestones/lig...</td>\n",
       "      <td>I saw it from a distance, it came without a so...</td>\n",
       "    </tr>\n",
       "    <tr>\n",
       "      <th>499</th>\n",
       "      <td>Le Couteau</td>\n",
       "      <td>Mansfield.TYA</td>\n",
       "      <td>2021</td>\n",
       "      <td>https://www.azlyrics.com/lyrics/mansfieldtya/l...</td>\n",
       "      <td>Aime-moi, aime-toi\\nNous ne sommes pas ennemis...</td>\n",
       "    </tr>\n",
       "  </tbody>\n",
       "</table>\n",
       "<p>500 rows × 5 columns</p>\n",
       "</div>"
      ],
      "text/plain": [
       "                              song title  artist/band name  year  \\\n",
       "0                 Shaking The Blues Away         Doris Day  1955   \n",
       "1                            Mood Indigo    Sinatra, Frank  1955   \n",
       "2                              All Alone      Julie London  1956   \n",
       "3                             Dolly Dawn   Harry Belafonte  1956   \n",
       "4                       You're My Thrill        Lee, Peggy  1956   \n",
       "..                                   ...               ...   ...   \n",
       "495                            You Dancy         Tommy Lee  2020   \n",
       "496                      I Just Love You         UPPERROOM  2020   \n",
       "497  Cowgirl Blues (Mark Wystrach Vocal)           Midland  2021   \n",
       "498                            Lights On  Blue Stones, The  2021   \n",
       "499                           Le Couteau     Mansfield.TYA  2021   \n",
       "\n",
       "                                            lyrics url  \\\n",
       "0    https://www.azlyrics.com/lyrics/dorisday/shaki...   \n",
       "1    https://www.azlyrics.com/lyrics/franksinatra/m...   \n",
       "2    https://www.azlyrics.com/lyrics/julielondon/al...   \n",
       "3    https://www.azlyrics.com/lyrics/harrybelafonte...   \n",
       "4    https://www.azlyrics.com/lyrics/peggylee/youre...   \n",
       "..                                                 ...   \n",
       "495  https://www.azlyrics.com/lyrics/tommylee/youda...   \n",
       "496  https://www.azlyrics.com/lyrics/upperroom/ijus...   \n",
       "497  https://www.azlyrics.com/lyrics/midland/cowgir...   \n",
       "498  https://www.azlyrics.com/lyrics/bluestones/lig...   \n",
       "499  https://www.azlyrics.com/lyrics/mansfieldtya/l...   \n",
       "\n",
       "                                                lyrics  \n",
       "0    There's an old superstition 'way down south\\nE...  \n",
       "1    You ain't been blue; no, no, no\\nYou ain't bee...  \n",
       "2    All alone, I'm so all alone\\nThere is no one e...  \n",
       "3    Look, look at Dolly,\\nPretty, pretty, pretty, ...  \n",
       "4    You're my thrill, you do something to me\\nYou ...  \n",
       "..                                                 ...  \n",
       "495  I said, \"You have any drums in your house?\"\\nD...  \n",
       "496  I just wanna move You\\nWhat moves You?\\nI just...  \n",
       "497  So long, my hill country woman\\nDon't cry\\nBut...  \n",
       "498  I saw it from a distance, it came without a so...  \n",
       "499  Aime-moi, aime-toi\\nNous ne sommes pas ennemis...  \n",
       "\n",
       "[500 rows x 5 columns]"
      ]
     },
     "execution_count": 9,
     "metadata": {},
     "output_type": "execute_result"
    }
   ],
   "source": [
    "song_df"
   ]
  },
  {
   "cell_type": "code",
   "execution_count": 34,
   "id": "9e3d617c",
   "metadata": {},
   "outputs": [],
   "source": [
    "vectorizerCount = text.CountVectorizer(tokenizer = lambda txt: txt.split())\n",
    "allDataVectorized = pd.DataFrame(vectorizerCount.fit_transform(song_df[\"lyrics\"]))"
   ]
  },
  {
   "cell_type": "code",
   "execution_count": 37,
   "id": "b9393a6a",
   "metadata": {},
   "outputs": [
    {
     "data": {
      "text/plain": [
       "<1x13717 sparse matrix of type '<class 'numpy.int64'>'\n",
       "\twith 76 stored elements in Compressed Sparse Row format>"
      ]
     },
     "execution_count": 37,
     "metadata": {},
     "output_type": "execute_result"
    }
   ],
   "source": [
    "allDataVectorized"
   ]
  },
  {
   "cell_type": "code",
   "execution_count": null,
   "id": "fb335512",
   "metadata": {},
   "outputs": [],
   "source": []
  }
 ],
 "metadata": {
  "kernelspec": {
   "display_name": "Python 3",
   "language": "python",
   "name": "python3"
  },
  "language_info": {
   "codemirror_mode": {
    "name": "ipython",
    "version": 3
   },
   "file_extension": ".py",
   "mimetype": "text/x-python",
   "name": "python",
   "nbconvert_exporter": "python",
   "pygments_lexer": "ipython3",
   "version": "3.8.8"
  }
 },
 "nbformat": 4,
 "nbformat_minor": 5
}
