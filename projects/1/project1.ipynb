{
 "cells": [
  {
   "cell_type": "code",
   "execution_count": 3,
   "id": "3133bbb3",
   "metadata": {},
   "outputs": [
    {
     "data": {
      "text/plain": [
       "'\\nAlec K. Mattu\\nINST 414\\n06/04/2021\\n\\nProject 1 - Use instructor provided list of song meta-attributes, fetch their lyrics, and store them in a CSV file.\\n'"
      ]
     },
     "execution_count": 3,
     "metadata": {},
     "output_type": "execute_result"
    }
   ],
   "source": [
    "'''\n",
    "Alec K. Mattu\n",
    "INST 414\n",
    "06/04/2021\n",
    "\n",
    "Project 1 - Use instructor provided list of song meta-attributes, fetch their lyrics, and store them in a CSV file.\n",
    "'''"
   ]
  },
  {
   "cell_type": "code",
   "execution_count": 4,
   "id": "c1e17323",
   "metadata": {},
   "outputs": [],
   "source": [
    "# Import Needed Libraries\n",
    "import requests\n",
    "import csv\n",
    "import time\n",
    "from bs4 import BeautifulSoup as bs"
   ]
  },
  {
   "cell_type": "code",
   "execution_count": 5,
   "id": "29d6c8a4",
   "metadata": {},
   "outputs": [],
   "source": [
    "# Cache Dataset\n",
    "songs = []\n",
    "\n",
    "# Open CSV\n",
    "with open('dataset_18.csv') as cvf:\n",
    "    reader = csv.DictReader(cvf)\n",
    "    for row in reader:\n",
    "        songs.append(row)"
   ]
  },
  {
   "cell_type": "code",
   "execution_count": 6,
   "id": "ebc6e7f0",
   "metadata": {},
   "outputs": [
    {
     "data": {
      "text/plain": [
       "{'song title': 'A Cottage For Sale',\n",
       " 'artist/band name': 'Bennett, Tony',\n",
       " 'year': '1958',\n",
       " 'lyrics url': 'https://www.azlyrics.com/lyrics/tonybennett/acottageforsale.html'}"
      ]
     },
     "execution_count": 6,
     "metadata": {},
     "output_type": "execute_result"
    }
   ],
   "source": [
    "# View Excerpt \n",
    "songs[12]"
   ]
  },
  {
   "cell_type": "code",
   "execution_count": 28,
   "id": "5d6ac11e",
   "metadata": {},
   "outputs": [
    {
     "name": "stdout",
     "output_type": "stream",
     "text": [
      "0 https://www.azlyrics.com/lyrics/dorisday/shakingthebluesaway.html\n",
      "['\"Shaking The Blues Away\"', '(from \"Love Me Or Leave Me\" soundtrack)', \"There's an old superstition 'way down south\", \"Everybody believes that trouble won't stay\", 'If you shake it away', 'When they hold a revival way down south', 'Everybody with care and trouble that day', 'Tries to shake it away', 'Shaking the blues away, unhappy news away', \"If you are blue, it's easy to\", 'Shake off your cares and troubles', 'Telling the blues to go, they may refuse to go', \"But as a rule, they'll go if you'll\", 'Shake them away', 'Do like the voodoos do, listening to a voodoo melody', 'They shake their bodies so, to and fro', 'With every shake, a lucky break', \"Proving that there's a way to chase your cares away\", 'If you would lose your weary blues', \"Shake 'em away\", ' Submit Corrections', 'Writer(s): Irving Berlin', 'AZLyrics', 'D', 'Doris Day Lyrics', 'soundtrack: \"Love Me Or Leave Me\" (1955)', 'It All Depends On You', \"You Made Me Love You (I Didn't Want To Do It)\", 'Stay On The Right Side, Sister', 'Mean To Me', \"Everybody Loves My Baby (But My Baby Don't Love Nobody But Me)\", 'Sam, The Old Accordion Man', 'Shaking The Blues Away', 'Ten Cents A Dance', \"I'll Never Stop Loving You\", 'Never Look Back', 'At Sundown', 'Love Me Or Leave Me']\n",
      "1 https://www.azlyrics.com/lyrics/franksinatra/moodindigo.html\n",
      "['\"Mood Indigo\"', \"You ain't been blue; no, no, no\", \"You ain't been blue\", \"Till you've had that mood indigo\", \"That feelin' goes stealin' down to my shoes\", 'While I sit and sigh, \"Go \\'long blues\"', 'Always get that mood indigo', 'Since my baby said goodbye', \"In the evenin' when lights are low\", \"I'm so lonely I could cry\", \"'Cause there's nobody who cares about me\", \"I'm just a soul who's\", 'Bluer than blue can be', 'When I get that mood indigo', 'I could lay me down and die', ' Submit Corrections', 'Thanks to Myles for correcting these lyrics.', 'Writer(s): Ellington Duke, Bigard Albany', 'AZLyrics', 'F', 'Frank Sinatra Lyrics', 'album: \"In The Wee Small Hours\" (1955)', 'In The Wee Small Hours Of The Morning', 'Mood Indigo', 'Glad To Be Unhappy', 'I Get Along Without You Very Well', 'Deep In A Dream', 'I See Your Face Before Me', \"Can't We Be Friends?\", 'When Your Lover Has Gone', 'What Is This Thing Called Love', 'Last Night When We Were Young', \"I'll Be Around\", 'Ill Wind', 'It Never Entered My Mind', 'Dancing On The Ceiling', \"I'll Never Be The Same\", 'This Love Of Mine']\n",
      "2 https://www.azlyrics.com/lyrics/julielondon/allalone.html\n",
      "['\"All Alone\"', \"All alone, I'm so all alone\", 'There is no one else but you', 'All alone by the telephone', 'Waiting for a ring-a-ding-a-ling', \"I'm all alone every evening\", 'All alone, feeling blue', 'Wondering where you are', 'And how you are', 'And if you are all alone too', ' Submit Corrections', 'AZLyrics', 'J', 'Julie London Lyrics', 'album: \"Lonely Girl\" (1956)', 'Lonely Girl', 'Fools Rush In', 'Moments Like This', 'I Lost My Sugar In Salt Lake City', \"It's The Talk Of The Town\", \"What'll I Do\", 'When Your Lover Has Gone', \"Don't Take Your Love From Me\", 'Where Or When', 'All Alone', 'Mean To Me', 'How Deep Is The Ocean', 'Remember']\n",
      "3 https://www.azlyrics.com/lyrics/harrybelafonte/dollydawn.html\n",
      "['\"Dolly Dawn\"', 'Look, look at Dolly,', 'Pretty, pretty, pretty, pretty, pretty, pretty dolly', 'Oh here she come, here she come, here she come', 'Pretty, pretty Dolly', 'When Dolly hear them sound the drum', 'Up she jump she holler: \"Here I Come\"', 'Cause she gonna dance, she gonna sing', 'She gonna cause the rafters to ring', 'Cause she gonna dance, she gonna sing', 'She gonna cause the rafters to ring', \"Don't stop her when she hear the call\", \"Dolly Dawn goin' to have herself a ball\", 'When Dolly start to shake an shout', 'Clear the floor cause she really move about', 'When Dolly go into a turn', 'All men jump and their eyes begin to burn', 'Soon Dolly go into a fall', \"Turn an' spin then she starts to climb the wall\", 'Soon Dolly go into a fall', \"Turn an' spin and then she climb the wall\", ' Submit Corrections', 'Writer(s): Irving Burgess', 'AZLyrics', 'H', 'Harry Belafonte Lyrics', 'album: \"Calypso\" (1956)', 'Day-O (The Banana Boat Song)', 'I Do Adore Her', 'Jamaica Farewell', 'Will His Love Be Like His Rum?', 'Dolly Dawn', 'Star-O', 'The Jack-Ass Song', 'Hosanna', 'Come Back Liza', 'Brown Skin Girl', 'Man Smart (Woman Smarter)']\n",
      "4 https://www.azlyrics.com/lyrics/peggylee/youremythrill.html\n",
      "['\"You\\'re My Thrill\"', \"You're my thrill, you do something to me\", 'You send chills right through me when I look at you', \"'Cause you're my thrill, you're my thrill\", 'How my pulse increases, I just go to pieces', \"When I look at you 'cause you're my thrill\", 'Mmm, nothing seems to matter', \"Mmm, here's my heart on a silver platter\", \"Where's my will? Why this strange desire?\", 'That keeps mounting higher when I look at you', \"I can't keep still, you're my thrill\", \"Where's my will? Why this strange desire?\", 'That keeps mounting higher when I look at you', \"I can't keep still, you're my thrill\", ' Submit Corrections', 'Writer(s): Gorney Jay, Clare Sidney', 'AZLyrics', 'P', 'Peggy Lee Lyrics', 'album: \"Black Coffee\" (1956)', 'Black Coffee', \"I've Got You Under My Skin\", 'Easy Living', 'My Heart Belongs To Daddy', \"It Ain't Necessarily So\", \"Gee Baby, Ain't I Good To You?\", 'A Woman Alone With The Blues', \"I Didn't Know What Time It Was\", 'When The World Was Young', 'Love Me Or Leave Me', \"You're My Thrill\", \"There's A Small Hotel\"]\n"
     ]
    }
   ],
   "source": [
    "# Download Lyrics\n",
    "for index, song in enumerate(songs):\n",
    "    # Validate URL\n",
    "    if (not song[\"lyrics url\"] or song[\"lyrics url\"] is None):\n",
    "        print(\"Skipping \" + song)\n",
    "        continue\n",
    "    \n",
    "    # Fetch Lyric Page\n",
    "    page = requests.get(song[\"lyrics url\"])\n",
    "    \n",
    "    # Validate Request\n",
    "    if (page.status_code != 200):\n",
    "        print(\"Skipping \" + song)\n",
    "        continue\n",
    "        \n",
    "    # Parse Lyrics\n",
    "    song[\"lyrics\"] = \"\"\n",
    "    soup = bs(page.content, \"html.parser\")\n",
    "    lyric_div = soup.find(class_= \"col-xs-12 col-lg-8 text-center\")\n",
    "    lyrics = lyric_div.text.splitlines()\n",
    "    lyrics = list(filter(None, lyrics))\n",
    "    lyrics = lyrics[2:len(lyrics) - 1]\n",
    "    \n",
    "    # temp\n",
    "    print(index, song[\"lyrics url\"])\n",
    "    print(lyrics)\n",
    "    if (index > 3):\n",
    "        break\n",
    "    time.sleep(3)\n",
    "    "
   ]
  },
  {
   "cell_type": "code",
   "execution_count": 22,
   "id": "9ff01767",
   "metadata": {},
   "outputs": [
    {
     "data": {
      "text/plain": [
       "{'song title': 'You Brought A New Kind Of Love To Me',\n",
       " 'artist/band name': 'Ella Fitzgerald',\n",
       " 'year': '1958',\n",
       " 'lyrics url': 'https://www.azlyrics.com/lyrics/ellafitzgerald/youbroughtanewkindoflovetome.html'}"
      ]
     },
     "execution_count": 22,
     "metadata": {},
     "output_type": "execute_result"
    }
   ],
   "source": [
    "# View Excerpt\n",
    "songs[10]"
   ]
  },
  {
   "cell_type": "code",
   "execution_count": null,
   "id": "58da0d92",
   "metadata": {},
   "outputs": [],
   "source": []
  }
 ],
 "metadata": {
  "kernelspec": {
   "display_name": "Python 3",
   "language": "python",
   "name": "python3"
  },
  "language_info": {
   "codemirror_mode": {
    "name": "ipython",
    "version": 3
   },
   "file_extension": ".py",
   "mimetype": "text/x-python",
   "name": "python",
   "nbconvert_exporter": "python",
   "pygments_lexer": "ipython3",
   "version": "3.8.8"
  }
 },
 "nbformat": 4,
 "nbformat_minor": 5
}
