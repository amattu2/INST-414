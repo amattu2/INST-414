{
 "cells": [
  {
   "cell_type": "code",
   "execution_count": null,
   "id": "54494caa",
   "metadata": {},
   "outputs": [],
   "source": [
    "'''\n",
    "Alec K. Mattu\n",
    "INST 414\n",
    "07/03/2021\n",
    "\n",
    "Project 3\n",
    "'''"
   ]
  },
  {
   "cell_type": "code",
   "execution_count": 128,
   "id": "50c19f90",
   "metadata": {},
   "outputs": [],
   "source": [
    "# Import the needed libraries\n",
    "import csv\n",
    "import numpy as np\n",
    "import pandas as pd\n",
    "import matplotlib.pyplot as plt\n",
    "import seaborn as sns\n",
    "import sklearn.metrics as metrics\n",
    "import nltk\n",
    "import string\n",
    "import json\n",
    "import math\n",
    "import requests\n",
    "from sklearn.preprocessing import MinMaxScaler\n",
    "from sklearn.model_selection import train_test_split\n",
    "from sklearn.feature_extraction import text\n",
    "from sklearn.preprocessing import normalize\n",
    "from sklearn.feature_extraction.text import TfidfVectorizer\n",
    "from sklearn import linear_model\n",
    "from nltk.corpus import stopwords\n",
    "from bs4 import BeautifulSoup as bs"
   ]
  },
  {
   "cell_type": "markdown",
   "id": "c8cefcf5",
   "metadata": {},
   "source": [
    "# Part 0A\n",
    "## Pre-processing of songs dataset"
   ]
  },
  {
   "cell_type": "code",
   "execution_count": 108,
   "id": "b59547ce",
   "metadata": {},
   "outputs": [],
   "source": [
    "# Variable for songs\n",
    "songs = []\n",
    "\n",
    "# Open CSV and read each row into songs variable\n",
    "with open('dataset_output.csv') as cvf:\n",
    "    reader = csv.DictReader(cvf)\n",
    "    for row in reader:\n",
    "        # Add song to lyrics list\n",
    "        songs.append(row)"
   ]
  },
  {
   "cell_type": "markdown",
   "id": "6598895b",
   "metadata": {},
   "source": [
    "# Part 0B\n",
    "## Add \"favorite song\" to dataset"
   ]
  },
  {
   "cell_type": "code",
   "execution_count": 109,
   "id": "50d8350d",
   "metadata": {},
   "outputs": [],
   "source": [
    "# Fetch Lyric Page\n",
    "song = {\n",
    "    \"song title\": \"Taro\",\n",
    "    \"artist/band name\": \"alt-J\",\n",
    "    \"year\": 2012,\n",
    "    \"lyrics url\": \"https://www.azlyrics.com/lyrics/altj/taro.html\"\n",
    "}\n",
    "page = requests.get(song[\"lyrics url\"])\n",
    "\n",
    "# Validate the lyric request\n",
    "if (page.status_code != 200):\n",
    "    print(\"Failed to download song lyrics\")\n",
    "    exit()\n",
    "\n",
    "# Parse the HTML content from the request\n",
    "soup = bs(page.content, \"html.parser\")\n",
    "\n",
    "# Find the lyrics div\n",
    "lyric_div = soup.find(class_= \"col-xs-12 col-lg-8 text-center\").find(\"div\", attrs = {'class': None})   \n",
    "\n",
    "# Strip HTML from the lyrics div\n",
    "lyrics = lyric_div.text.splitlines()\n",
    "\n",
    "# Remove null entries from dict\n",
    "lyrics = list(filter(None, lyrics))\n",
    "\n",
    "# Recombine the lyrics into a single string\n",
    "song[\"lyrics\"] = str.join(\"\\n\", lyrics)\n",
    "\n",
    "# Add favorite song to song list\n",
    "songs.append(song)"
   ]
  },
  {
   "cell_type": "markdown",
   "id": "9509c4fe",
   "metadata": {},
   "source": [
    "# Part 0C\n",
    "## Convert songs to DataFrame"
   ]
  },
  {
   "cell_type": "code",
   "execution_count": 110,
   "id": "fc711238",
   "metadata": {},
   "outputs": [],
   "source": [
    "# Define ignored words\n",
    "ignored = sorted(stopwords.words(\"english\"))\n",
    "ignored.append(\"'s\")\n",
    "ignored.append(\"'m\")\n",
    "ignored.append(\"!\")\n",
    "ignored.append(\"!!\")\n",
    "\n",
    "# Iterate through songs list\n",
    "for row in songs:\n",
    "    # Tokenize lyrics\n",
    "    tokenized = nltk.word_tokenize(row[\"lyrics\"])\n",
    "    no_stopwords = [w for w in tokenized if w not in ignored]\n",
    "    row[\"lyrics_split\"] = [w for w in no_stopwords if w not in string.punctuation]\n",
    "    row[\"lyrics_split\"] = [w for w in row[\"lyrics_split\"] if not str.isnumeric(w)]\n",
    "\n",
    "    # Take tokenized words, strip non-unique instances, count word frequencies\n",
    "    freqdist = nltk.FreqDist(row[\"lyrics_split\"])\n",
    "    row[\"lyrics_split_frequencies\"] = dict((word, freq) for word, freq in freqdist.items() if not word.isdigit())"
   ]
  },
  {
   "cell_type": "code",
   "execution_count": 111,
   "id": "1c2747a2",
   "metadata": {},
   "outputs": [],
   "source": [
    "# Turn the songs variable into a Pandas DF\n",
    "df = pd.DataFrame(songs)"
   ]
  },
  {
   "cell_type": "code",
   "execution_count": 112,
   "id": "8bc8d2d2",
   "metadata": {},
   "outputs": [],
   "source": [
    "# Force year column to integer\n",
    "df[\"year\"] = pd.to_numeric(df[\"year\"])"
   ]
  },
  {
   "cell_type": "code",
   "execution_count": 113,
   "id": "e8c95664",
   "metadata": {
    "scrolled": true
   },
   "outputs": [
    {
     "data": {
      "text/html": [
       "<div>\n",
       "<style scoped>\n",
       "    .dataframe tbody tr th:only-of-type {\n",
       "        vertical-align: middle;\n",
       "    }\n",
       "\n",
       "    .dataframe tbody tr th {\n",
       "        vertical-align: top;\n",
       "    }\n",
       "\n",
       "    .dataframe thead th {\n",
       "        text-align: right;\n",
       "    }\n",
       "</style>\n",
       "<table border=\"1\" class=\"dataframe\">\n",
       "  <thead>\n",
       "    <tr style=\"text-align: right;\">\n",
       "      <th></th>\n",
       "      <th>song title</th>\n",
       "      <th>artist/band name</th>\n",
       "      <th>year</th>\n",
       "      <th>lyrics url</th>\n",
       "      <th>lyrics</th>\n",
       "      <th>lyrics_split</th>\n",
       "      <th>lyrics_split_frequencies</th>\n",
       "    </tr>\n",
       "  </thead>\n",
       "  <tbody>\n",
       "    <tr>\n",
       "      <th>0</th>\n",
       "      <td>Shaking The Blues Away</td>\n",
       "      <td>Doris Day</td>\n",
       "      <td>1955</td>\n",
       "      <td>https://www.azlyrics.com/lyrics/dorisday/shaki...</td>\n",
       "      <td>There's an old superstition 'way down south\\nE...</td>\n",
       "      <td>[There, old, superstition, 'way, south, Everyb...</td>\n",
       "      <td>{'There': 1, 'old': 1, 'superstition': 1, ''wa...</td>\n",
       "    </tr>\n",
       "    <tr>\n",
       "      <th>1</th>\n",
       "      <td>Mood Indigo</td>\n",
       "      <td>Sinatra, Frank</td>\n",
       "      <td>1955</td>\n",
       "      <td>https://www.azlyrics.com/lyrics/franksinatra/m...</td>\n",
       "      <td>You ain't been blue; no, no, no\\nYou ain't bee...</td>\n",
       "      <td>[You, ai, n't, blue, You, ai, n't, blue, Till,...</td>\n",
       "      <td>{'You': 2, 'ai': 2, 'n't': 2, 'blue': 3, 'Till...</td>\n",
       "    </tr>\n",
       "    <tr>\n",
       "      <th>2</th>\n",
       "      <td>All Alone</td>\n",
       "      <td>Julie London</td>\n",
       "      <td>1956</td>\n",
       "      <td>https://www.azlyrics.com/lyrics/julielondon/al...</td>\n",
       "      <td>All alone, I'm so all alone\\nThere is no one e...</td>\n",
       "      <td>[All, alone, I, alone, There, one, else, All, ...</td>\n",
       "      <td>{'All': 3, 'alone': 6, 'I': 2, 'There': 1, 'on...</td>\n",
       "    </tr>\n",
       "    <tr>\n",
       "      <th>3</th>\n",
       "      <td>Dolly Dawn</td>\n",
       "      <td>Harry Belafonte</td>\n",
       "      <td>1956</td>\n",
       "      <td>https://www.azlyrics.com/lyrics/harrybelafonte...</td>\n",
       "      <td>Look, look at Dolly,\\nPretty, pretty, pretty, ...</td>\n",
       "      <td>[Look, look, Dolly, Pretty, pretty, pretty, pr...</td>\n",
       "      <td>{'Look': 1, 'look': 1, 'Dolly': 8, 'Pretty': 2...</td>\n",
       "    </tr>\n",
       "    <tr>\n",
       "      <th>4</th>\n",
       "      <td>You're My Thrill</td>\n",
       "      <td>Lee, Peggy</td>\n",
       "      <td>1956</td>\n",
       "      <td>https://www.azlyrics.com/lyrics/peggylee/youre...</td>\n",
       "      <td>You're my thrill, you do something to me\\nYou ...</td>\n",
       "      <td>[You, 're, thrill, something, You, send, chill...</td>\n",
       "      <td>{'You': 2, ''re': 6, 'thrill': 6, 'something':...</td>\n",
       "    </tr>\n",
       "    <tr>\n",
       "      <th>...</th>\n",
       "      <td>...</td>\n",
       "      <td>...</td>\n",
       "      <td>...</td>\n",
       "      <td>...</td>\n",
       "      <td>...</td>\n",
       "      <td>...</td>\n",
       "      <td>...</td>\n",
       "    </tr>\n",
       "    <tr>\n",
       "      <th>496</th>\n",
       "      <td>I Just Love You</td>\n",
       "      <td>UPPERROOM</td>\n",
       "      <td>2020</td>\n",
       "      <td>https://www.azlyrics.com/lyrics/upperroom/ijus...</td>\n",
       "      <td>I just wanna move You\\nWhat moves You?\\nI just...</td>\n",
       "      <td>[I, wan, na, move, You, What, moves, You, I, w...</td>\n",
       "      <td>{'I': 65, 'wan': 8, 'na': 8, 'move': 2, 'You':...</td>\n",
       "    </tr>\n",
       "    <tr>\n",
       "      <th>497</th>\n",
       "      <td>Cowgirl Blues (Mark Wystrach Vocal)</td>\n",
       "      <td>Midland</td>\n",
       "      <td>2021</td>\n",
       "      <td>https://www.azlyrics.com/lyrics/midland/cowgir...</td>\n",
       "      <td>So long, my hill country woman\\nDon't cry\\nBut...</td>\n",
       "      <td>[So, long, hill, country, woman, Do, n't, cry,...</td>\n",
       "      <td>{'So': 2, 'long': 2, 'hill': 2, 'country': 2, ...</td>\n",
       "    </tr>\n",
       "    <tr>\n",
       "      <th>498</th>\n",
       "      <td>Lights On</td>\n",
       "      <td>Blue Stones, The</td>\n",
       "      <td>2021</td>\n",
       "      <td>https://www.azlyrics.com/lyrics/bluestones/lig...</td>\n",
       "      <td>I saw it from a distance, it came without a so...</td>\n",
       "      <td>[I, saw, distance, came, without, sound, I, co...</td>\n",
       "      <td>{'I': 14, 'saw': 1, 'distance': 1, 'came': 1, ...</td>\n",
       "    </tr>\n",
       "    <tr>\n",
       "      <th>499</th>\n",
       "      <td>Le Couteau</td>\n",
       "      <td>Mansfield.TYA</td>\n",
       "      <td>2021</td>\n",
       "      <td>https://www.azlyrics.com/lyrics/mansfieldtya/l...</td>\n",
       "      <td>Aime-moi, aime-toi\\nNous ne sommes pas ennemis...</td>\n",
       "      <td>[Aime-moi, aime-toi, Nous, ne, sommes, pas, en...</td>\n",
       "      <td>{'Aime-moi': 1, 'aime-toi': 1, 'Nous': 2, 'ne'...</td>\n",
       "    </tr>\n",
       "    <tr>\n",
       "      <th>500</th>\n",
       "      <td>Taro</td>\n",
       "      <td>alt-J</td>\n",
       "      <td>2012</td>\n",
       "      <td>https://www.azlyrics.com/lyrics/altj/taro.html</td>\n",
       "      <td>Indochina, Capa jumps Jeep, two feet creep up ...</td>\n",
       "      <td>[Indochina, Capa, jumps, Jeep, two, feet, cree...</td>\n",
       "      <td>{'Indochina': 1, 'Capa': 6, 'jumps': 1, 'Jeep'...</td>\n",
       "    </tr>\n",
       "  </tbody>\n",
       "</table>\n",
       "<p>501 rows × 7 columns</p>\n",
       "</div>"
      ],
      "text/plain": [
       "                              song title  artist/band name  year  \\\n",
       "0                 Shaking The Blues Away         Doris Day  1955   \n",
       "1                            Mood Indigo    Sinatra, Frank  1955   \n",
       "2                              All Alone      Julie London  1956   \n",
       "3                             Dolly Dawn   Harry Belafonte  1956   \n",
       "4                       You're My Thrill        Lee, Peggy  1956   \n",
       "..                                   ...               ...   ...   \n",
       "496                      I Just Love You         UPPERROOM  2020   \n",
       "497  Cowgirl Blues (Mark Wystrach Vocal)           Midland  2021   \n",
       "498                            Lights On  Blue Stones, The  2021   \n",
       "499                           Le Couteau     Mansfield.TYA  2021   \n",
       "500                                 Taro             alt-J  2012   \n",
       "\n",
       "                                            lyrics url  \\\n",
       "0    https://www.azlyrics.com/lyrics/dorisday/shaki...   \n",
       "1    https://www.azlyrics.com/lyrics/franksinatra/m...   \n",
       "2    https://www.azlyrics.com/lyrics/julielondon/al...   \n",
       "3    https://www.azlyrics.com/lyrics/harrybelafonte...   \n",
       "4    https://www.azlyrics.com/lyrics/peggylee/youre...   \n",
       "..                                                 ...   \n",
       "496  https://www.azlyrics.com/lyrics/upperroom/ijus...   \n",
       "497  https://www.azlyrics.com/lyrics/midland/cowgir...   \n",
       "498  https://www.azlyrics.com/lyrics/bluestones/lig...   \n",
       "499  https://www.azlyrics.com/lyrics/mansfieldtya/l...   \n",
       "500     https://www.azlyrics.com/lyrics/altj/taro.html   \n",
       "\n",
       "                                                lyrics  \\\n",
       "0    There's an old superstition 'way down south\\nE...   \n",
       "1    You ain't been blue; no, no, no\\nYou ain't bee...   \n",
       "2    All alone, I'm so all alone\\nThere is no one e...   \n",
       "3    Look, look at Dolly,\\nPretty, pretty, pretty, ...   \n",
       "4    You're my thrill, you do something to me\\nYou ...   \n",
       "..                                                 ...   \n",
       "496  I just wanna move You\\nWhat moves You?\\nI just...   \n",
       "497  So long, my hill country woman\\nDon't cry\\nBut...   \n",
       "498  I saw it from a distance, it came without a so...   \n",
       "499  Aime-moi, aime-toi\\nNous ne sommes pas ennemis...   \n",
       "500  Indochina, Capa jumps Jeep, two feet creep up ...   \n",
       "\n",
       "                                          lyrics_split  \\\n",
       "0    [There, old, superstition, 'way, south, Everyb...   \n",
       "1    [You, ai, n't, blue, You, ai, n't, blue, Till,...   \n",
       "2    [All, alone, I, alone, There, one, else, All, ...   \n",
       "3    [Look, look, Dolly, Pretty, pretty, pretty, pr...   \n",
       "4    [You, 're, thrill, something, You, send, chill...   \n",
       "..                                                 ...   \n",
       "496  [I, wan, na, move, You, What, moves, You, I, w...   \n",
       "497  [So, long, hill, country, woman, Do, n't, cry,...   \n",
       "498  [I, saw, distance, came, without, sound, I, co...   \n",
       "499  [Aime-moi, aime-toi, Nous, ne, sommes, pas, en...   \n",
       "500  [Indochina, Capa, jumps, Jeep, two, feet, cree...   \n",
       "\n",
       "                              lyrics_split_frequencies  \n",
       "0    {'There': 1, 'old': 1, 'superstition': 1, ''wa...  \n",
       "1    {'You': 2, 'ai': 2, 'n't': 2, 'blue': 3, 'Till...  \n",
       "2    {'All': 3, 'alone': 6, 'I': 2, 'There': 1, 'on...  \n",
       "3    {'Look': 1, 'look': 1, 'Dolly': 8, 'Pretty': 2...  \n",
       "4    {'You': 2, ''re': 6, 'thrill': 6, 'something':...  \n",
       "..                                                 ...  \n",
       "496  {'I': 65, 'wan': 8, 'na': 8, 'move': 2, 'You':...  \n",
       "497  {'So': 2, 'long': 2, 'hill': 2, 'country': 2, ...  \n",
       "498  {'I': 14, 'saw': 1, 'distance': 1, 'came': 1, ...  \n",
       "499  {'Aime-moi': 1, 'aime-toi': 1, 'Nous': 2, 'ne'...  \n",
       "500  {'Indochina': 1, 'Capa': 6, 'jumps': 1, 'Jeep'...  \n",
       "\n",
       "[501 rows x 7 columns]"
      ]
     },
     "execution_count": 113,
     "metadata": {},
     "output_type": "execute_result"
    }
   ],
   "source": [
    "# View head/tail of dataframe\n",
    "df"
   ]
  },
  {
   "cell_type": "markdown",
   "id": "91af2bfe",
   "metadata": {},
   "source": [
    "# 1A\n",
    "## Top 5 songs with consine similarity to favorite song"
   ]
  },
  {
   "cell_type": "code",
   "execution_count": 121,
   "id": "25edd8be",
   "metadata": {},
   "outputs": [],
   "source": [
    "# Vectorize lyrics with CountVectorizer\n",
    "bag_of_words = text.CountVectorizer(tokenizer = lambda txt: txt.split(), stop_words = \"english\")\n",
    "docterm = bag_of_words.fit_transform(df[\"lyrics\"])\n",
    "\n",
    "# Add document terms to a DataFrame\n",
    "document_terms = pd.DataFrame(docterm.toarray(), columns = bag_of_words.get_feature_names(), index = df[\"song title\"])\n",
    "\n",
    "# Normalize document terms DataFrame\n",
    "document_terms_normalized = pd.DataFrame(normalize(document_terms), columns = bag_of_words.get_feature_names(), index = df[\"song title\"])"
   ]
  },
  {
   "cell_type": "code",
   "execution_count": 127,
   "id": "7198c08a",
   "metadata": {},
   "outputs": [
    {
     "data": {
      "text/plain": [
       "song title\n",
       "Taro                                   1.000000\n",
       "With You                               0.114658\n",
       "Rather Be Me                           0.097293\n",
       "Cowgirl Blues (Mark Wystrach Vocal)    0.095719\n",
       "All I Can See                          0.094667\n",
       "You Never Give Me Your Money           0.092692\n",
       "dtype: float64"
      ]
     },
     "execution_count": 127,
     "metadata": {},
     "output_type": "execute_result"
    }
   ],
   "source": [
    "# Reference \"Favorite Song\" Row\n",
    "ref = document_terms_normalized.iloc[500]\n",
    "\n",
    "# Pull cosine similarities to ref song\n",
    "cosines = document_terms_normalized.dot(ref)\n",
    "\n",
    "# Print top 5 closest songs to ref\n",
    "# 5 is default, with a 1:1 similarity to the original song, I.E. we need the top 6\n",
    "cosines.nlargest(6)"
   ]
  },
  {
   "cell_type": "markdown",
   "id": "f4824ff4",
   "metadata": {},
   "source": [
    "# 2A\n",
    "## Top 5 songs using TF-IDF Vectorizer"
   ]
  },
  {
   "cell_type": "code",
   "execution_count": 163,
   "id": "e7c82e67",
   "metadata": {},
   "outputs": [],
   "source": [
    "# Vectorize lyrics with TF-IDF\n",
    "bag_of_words = TfidfVectorizer(tokenizer = lambda txt: txt.split(), stop_words = \"english\")\n",
    "docterm = bag_of_words.fit_transform(df[\"lyrics\"])\n",
    "\n",
    "# Add document terms to a DataFrame\n",
    "document_terms = pd.DataFrame(docterm.toarray(), columns = bag_of_words.get_feature_names(), index = df[\"song title\"])\n",
    "\n",
    "# Normalize document terms DataFrame\n",
    "document_terms_normalized = pd.DataFrame(normalize(document_terms), columns = bag_of_words.get_feature_names(), index = df[\"song title\"])"
   ]
  },
  {
   "cell_type": "code",
   "execution_count": 165,
   "id": "f9db2562",
   "metadata": {},
   "outputs": [
    {
     "data": {
      "text/plain": [
       "song title\n",
       "Taro                            1.000000\n",
       "You Never Give Me Your Money    0.090799\n",
       "With You                        0.051710\n",
       "Borrowing                       0.051272\n",
       "Rooftops                        0.044883\n",
       "Hey You                         0.042598\n",
       "dtype: float64"
      ]
     },
     "execution_count": 165,
     "metadata": {},
     "output_type": "execute_result"
    }
   ],
   "source": [
    "# Reference \"Favorite Song\" Row\n",
    "ref = document_terms_normalized.iloc[500]\n",
    "\n",
    "# Pull cosine similarities to ref song\n",
    "cosines = document_terms_normalized.dot(ref)\n",
    "\n",
    "# Print top 5 closest songs to ref\n",
    "cosines.nlargest(6)"
   ]
  },
  {
   "cell_type": "markdown",
   "id": "ff3a2984",
   "metadata": {},
   "source": [
    "# Part 3\n",
    "## Plot cosine similarity between favorite songs"
   ]
  },
  {
   "cell_type": "code",
   "execution_count": 180,
   "id": "1f6bba11",
   "metadata": {},
   "outputs": [
    {
     "data": {
      "text/html": [
       "<div>\n",
       "<style scoped>\n",
       "    .dataframe tbody tr th:only-of-type {\n",
       "        vertical-align: middle;\n",
       "    }\n",
       "\n",
       "    .dataframe tbody tr th {\n",
       "        vertical-align: top;\n",
       "    }\n",
       "\n",
       "    .dataframe thead th {\n",
       "        text-align: right;\n",
       "    }\n",
       "</style>\n",
       "<table border=\"1\" class=\"dataframe\">\n",
       "  <thead>\n",
       "    <tr style=\"text-align: right;\">\n",
       "      <th></th>\n",
       "      <th>song title</th>\n",
       "      <th>cosine_similarity</th>\n",
       "      <th>year</th>\n",
       "    </tr>\n",
       "  </thead>\n",
       "  <tbody>\n",
       "    <tr>\n",
       "      <th>506</th>\n",
       "      <td>Taro</td>\n",
       "      <td>1.000000</td>\n",
       "      <td>2012</td>\n",
       "    </tr>\n",
       "    <tr>\n",
       "      <th>160</th>\n",
       "      <td>You Never Give Me Your Money</td>\n",
       "      <td>0.090799</td>\n",
       "      <td>1981</td>\n",
       "    </tr>\n",
       "    <tr>\n",
       "      <th>20</th>\n",
       "      <td>With You</td>\n",
       "      <td>0.051710</td>\n",
       "      <td>1960</td>\n",
       "    </tr>\n",
       "    <tr>\n",
       "      <th>431</th>\n",
       "      <td>Borrowing</td>\n",
       "      <td>0.051272</td>\n",
       "      <td>2015</td>\n",
       "    </tr>\n",
       "    <tr>\n",
       "      <th>375</th>\n",
       "      <td>Rooftops</td>\n",
       "      <td>0.044883</td>\n",
       "      <td>2010</td>\n",
       "    </tr>\n",
       "    <tr>\n",
       "      <th>235</th>\n",
       "      <td>Hey You</td>\n",
       "      <td>0.042598</td>\n",
       "      <td>1991</td>\n",
       "    </tr>\n",
       "  </tbody>\n",
       "</table>\n",
       "</div>"
      ],
      "text/plain": [
       "                       song title  cosine_similarity  year\n",
       "506                          Taro           1.000000  2012\n",
       "160  You Never Give Me Your Money           0.090799  1981\n",
       "20                       With You           0.051710  1960\n",
       "431                     Borrowing           0.051272  2015\n",
       "375                      Rooftops           0.044883  2010\n",
       "235                       Hey You           0.042598  1991"
      ]
     },
     "execution_count": 180,
     "metadata": {},
     "output_type": "execute_result"
    }
   ],
   "source": [
    "# Add production year cosines DataFrame\n",
    "cosines_df = cosines.to_frame().merge(df[[\"song title\", \"year\"]], on = \"song title\", how = \"left\")\n",
    "\n",
    "# Rename columns\n",
    "cosines_df.columns = [\"song title\", \"cosine_similarity\", \"year\"]\n",
    "\n",
    "# Force cosine_similarity column to integer\n",
    "cosines_df[\"cosine_similarity\"] = pd.to_numeric(cosines_df[\"cosine_similarity\"])\n",
    "\n",
    "# Preview DataFrame\n",
    "cosines_df.sort_values(by = [\"cosine_similarity\"], ascending = False).head(6)"
   ]
  },
  {
   "cell_type": "code",
   "execution_count": 192,
   "id": "9957c743",
   "metadata": {},
   "outputs": [
    {
     "data": {
      "image/png": "[encoded data removed]",
      "text/plain": [
       "<Figure size 1080x360 with 1 Axes>"
      ]
     },
     "metadata": {
      "needs_background": "light"
     },
     "output_type": "display_data"
    }
   ],
   "source": [
    "# Basic Rel Plot\n",
    "sns.relplot(data = cosines_df[cosines_df[\"song title\"] != \"Taro\"], x = \"year\", y = \"cosine_similarity\", kind = \"line\", aspect = 3)\n",
    "\n",
    "# Add Rotation to X labels\n",
    "locs, labels = plt.xticks()\n",
    "plt.setp(labels, rotation = 55)\n",
    "\n",
    "# Add X/Y Axis Labels\n",
    "plt.title(\"Cosine Similarity of Songs to Taro by Year\")\n",
    "plt.xlabel(\"Song Year\")\n",
    "plt.ylabel(\"Cosine Similarity (Normalized)\")\n",
    "\n",
    "# Save plot\n",
    "plt.savefig(\"project3_figure_117568813.pdf\")\n",
    "\n",
    "# Hide Output\n",
    "None"
   ]
  },
  {
   "cell_type": "markdown",
   "id": "fdff6adc",
   "metadata": {},
   "source": [
    "# Part 4\n",
    "## Linear Regression Analysis"
   ]
  },
  {
   "cell_type": "code",
   "execution_count": 194,
   "id": "4f8d2d4e",
   "metadata": {},
   "outputs": [],
   "source": [
    "# Linear regression values\n",
    "x = cosines_df[\"year\"].values.reshape(-1, 1)\n",
    "x = np.nan_to_num(x) # Replace NaN with 0\n",
    "y = cosines_df[\"cosine_similarity\"].values.reshape(-1, 1)\n",
    "y = np.nan_to_num(y) # Replace NaN with 0\n",
    "\n",
    "# Basic linear model\n",
    "model = linear_model.LinearRegression()\n",
    "\n",
    "# Split data into training values\n",
    "xtrain, xtest, ytrain, ytest = train_test_split(x, y, test_size = 0.25)\n",
    "\n",
    "# Create training model\n",
    "model.fit(xtrain, ytrain)\n",
    "\n",
    "# Show test\n",
    "ypred_test = model.predict(xtest)"
   ]
  },
  {
   "cell_type": "code",
   "execution_count": 201,
   "id": "1f5e6679",
   "metadata": {},
   "outputs": [
    {
     "data": {
      "image/png": "[encoded data removed]",
      "text/plain": [
       "<Figure size 1296x576 with 1 Axes>"
      ]
     },
     "metadata": {
      "needs_background": "light"
     },
     "output_type": "display_data"
    }
   ],
   "source": [
    "# Show plot\n",
    "plt.figure(figsize = (18, 8))\n",
    "plt.scatter(xtrain, ytrain, c = \"blue\") # Training data\n",
    "plt.scatter(xtest, ytest, c = \"red\") # Testing data\n",
    "plt.plot(xtest, ypred_test, c = \"black\")\n",
    "\n",
    "# Add labels\n",
    "plt.title(\"Linear Regression Visualization\")\n",
    "plt.xlabel(\"Song Year\")\n",
    "plt.ylabel(\"Cosine Similarity (Normalized)\")\n",
    "plt.ylim((0, 0.2))\n",
    "\n",
    "# Hide output\n",
    "None"
   ]
  },
  {
   "cell_type": "code",
   "execution_count": 202,
   "id": "f4a2c3c6",
   "metadata": {},
   "outputs": [
    {
     "name": "stdout",
     "output_type": "stream",
     "text": [
      "Model Mean-Squared-Error: 0.007832127243732492\n"
     ]
    }
   ],
   "source": [
    "mean_squared_error = metrics.mean_squared_error(ytest, ypred_test)\n",
    "print(\"Model Mean-Squared-Error: \" + str(mean_squared_error))"
   ]
  },
  {
   "cell_type": "code",
   "execution_count": 207,
   "id": "244ea6ed",
   "metadata": {},
   "outputs": [
    {
     "name": "stdout",
     "output_type": "stream",
     "text": [
      "Model R2 Score: 0.008614578406205275\n"
     ]
    }
   ],
   "source": [
    "r2 = metrics.r2_score(ytest, ypred_test)\n",
    "print(\"Model R2 Score: \" + str(abs(r2)))"
   ]
  }
 ],
 "metadata": {
  "kernelspec": {
   "display_name": "Python 3",
   "language": "python",
   "name": "python3"
  },
  "language_info": {
   "codemirror_mode": {
    "name": "ipython",
    "version": 3
   },
   "file_extension": ".py",
   "mimetype": "text/x-python",
   "name": "python",
   "nbconvert_exporter": "python",
   "pygments_lexer": "ipython3",
   "version": "3.8.8"
  }
 },
 "nbformat": 4,
 "nbformat_minor": 5
}
